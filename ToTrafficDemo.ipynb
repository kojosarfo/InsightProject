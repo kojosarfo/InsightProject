{
 "cells": [
  {
   "cell_type": "code",
   "execution_count": 1,
   "metadata": {},
   "outputs": [],
   "source": [
    "from __future__ import print_function\n",
    "\n",
    "#This script implements pedestrian traffic forecast using Gaussian process regression with squared exponential kernel\n",
    "\n",
    "#The inputs required are: date, hour, intersection ID, holiday (Boolean) frecast horizon\n",
    "\n",
    "#Requirements: 'gprPedsMdl.sav', 'gprCycsMdl' and 'Locations.csv'"
   ]
  },
  {
   "cell_type": "code",
   "execution_count": 2,
   "metadata": {},
   "outputs": [],
   "source": [
    "%load_ext autoreload\n",
    "%autoreload\n",
    "\n",
    "import ipywidgets as widgets\n",
    "from ipywidgets import GridspecLayout, Button, Layout\n",
    "import plotly.graph_objects as go\n",
    "import folium\n",
    "from folium.plugins import HeatMapWithTime\n",
    "import pickle\n",
    "import numpy as np\n",
    "import pandas as pd\n",
    "from datetime import datetime"
   ]
  },
  {
   "cell_type": "code",
   "execution_count": 3,
   "metadata": {
    "scrolled": false
   },
   "outputs": [
    {
     "data": {
      "application/vnd.jupyter.widget-view+json": {
       "model_id": "5322a6dcfdf347f0a3931b47588fe2a3",
       "version_major": 2,
       "version_minor": 0
      },
      "text/plain": [
       "Image(value=b'\\xff\\xd8\\xff\\xe0\\x00\\x10JFIF\\x00\\x01\\x01\\x01\\x00`\\x00`\\x00\\x00\\xff\\xfe\\x00;CREATOR: gd-jpeg v1.0…"
      ]
     },
     "metadata": {},
     "output_type": "display_data"
    }
   ],
   "source": [
    "file = open(\"pedestrianTraffic.jpg\", \"rb\")\n",
    "image = file.read()\n",
    "pedsImage=widgets.Image(\n",
    "    value=image,\n",
    "    format='jpg',\n",
    "    layout=Layout(width='100%', height='400px')\n",
    ")\n",
    "display(pedsImage)"
   ]
  },
  {
   "cell_type": "code",
   "execution_count": 4,
   "metadata": {},
   "outputs": [
    {
     "data": {
      "application/vnd.jupyter.widget-view+json": {
       "model_id": "4c4dbb31a6864fcea1d14e018660bf73",
       "version_major": 2,
       "version_minor": 0
      },
      "text/plain": [
       "Button(button_style='info', description='This tool predicts pedestrian and cyclist traffic at selected interse…"
      ]
     },
     "metadata": {},
     "output_type": "display_data"
    }
   ],
   "source": [
    "info = widgets.Button(\n",
    "    description='This tool predicts pedestrian and cyclist traffic at selected intersections at Downtown Toronto',\n",
    "    disabled=False,\n",
    "    button_style='info', # 'success', 'info', 'warning', 'danger' or ''\n",
    "    layout=Layout(width='100%', height='40px')\n",
    ")\n",
    "display(info)"
   ]
  },
  {
   "cell_type": "code",
   "execution_count": 5,
   "metadata": {},
   "outputs": [],
   "source": [
    "#Reading saved files\n",
    "\n",
    "filename = 'Locations.sav'\n",
    "Locations = pickle.load(open(filename, 'rb'))\n",
    "\n",
    "filename = 'gprPedsMdl.sav'\n",
    "gprPedsMdl = pickle.load(open(filename, 'rb'))\n",
    "\n",
    "filename = 'gprCycsMdl.sav'\n",
    "gprCycsMdl = pickle.load(open(filename, 'rb'))"
   ]
  },
  {
   "cell_type": "code",
   "execution_count": null,
   "metadata": {},
   "outputs": [],
   "source": [
    "#Hoidays in Toronto in 2019\n",
    "\n",
    "holidayDates = ['2019-01-01', '2019-02-14', '2019-02-18', '2019-03-17',\n",
    "          '2019-04-19', '2019-04-22', '2019-05-12', '2019-05-20',\n",
    "          '2019-06-16', '2019-07-01', '2019-08-05', '2019-09-02',\n",
    "          '2019-10-14', '2019-10-31', '2019-12-25', '2019-12-26']\n",
    "\n",
    "HolidayCal = pd.DataFrame(holidayDates, columns = ['dates']);\n",
    "HolidayCal = pd.to_datetime(HolidayCal, dayfirst = True)"
   ]
  },
  {
   "cell_type": "code",
   "execution_count": 6,
   "metadata": {},
   "outputs": [],
   "source": [
    "#Converting widget outputs to appropriate data types for get_forecast() and get_maps()\n",
    "\n",
    "def get_param(ForecastDate,StartHour,forecastHorizon,InterSection,RoadUser):\n",
    "    \n",
    "    FirstDate= ForecastDate.value\n",
    "\n",
    "    FirstTime=int(StartHour.value);\n",
    "\n",
    "    Horizon=forecastHorizon.value\n",
    "\n",
    "    testStart = datetime(FirstDate.year, FirstDate.month, FirstDate.day)\n",
    "    testStart = testStart + pd.Timedelta(hours=FirstTime);\n",
    "    \n",
    "    testEnd = testStart + pd.Timedelta(hours=Horizon-1);\n",
    "    \n",
    "    if InterSection.value == 'Adelaide-Bay':\n",
    "        IntID= 0;\n",
    "    elif InterSection.value == 'Adelaide-Jarvis':\n",
    "        IntID= 1;\n",
    "    elif InterSection.value == 'Front-Bathurst':\n",
    "        IntID= 2;\n",
    "    elif InterSection.value == 'King-Portland':\n",
    "        IntID= 3;\n",
    "    elif InterSection.value == 'King-Peter':\n",
    "        IntID= 4;\n",
    "    elif InterSection.value == 'King-Bay':\n",
    "        IntID= 5;\n",
    "    elif InterSection.value == 'King-Yonge':\n",
    "        IntID= 6;\n",
    "    elif InterSection.value == 'King-Church':\n",
    "        IntID= 7;\n",
    "    elif InterSection.value == 'King-Jarvis':\n",
    "        IntID= 8;\n",
    "    elif InterSection.value == 'Queen-Bathurst':\n",
    "        IntID= 14;\n",
    "        print('We don\\'t have historical data for this intersection, but we will give you an estimate...')\n",
    "    elif InterSection.value == 'Richmond-Spadina':\n",
    "        IntID= 9;\n",
    "    elif InterSection.value == 'Richmond-Bay':\n",
    "        IntID= 10;\n",
    "    elif InterSection.value == 'Wellington-Blue_Jays':\n",
    "        IntID= 11;\n",
    "    elif InterSection.value == 'Wellington-Bay':\n",
    "        IntID= 12;\n",
    "    elif InterSection.value == 'King-John':\n",
    "        IntID= 13;\n",
    "        \n",
    "    if RoadUser.value == 'Pedestrians':\n",
    "        RoadUserID = 1;\n",
    "    elif RoadUser.value == 'Cyclists':\n",
    "        RoadUserID = 2;\n",
    "        \n",
    "    return RoadUserID, InterSection.value, IntID, testStart, testEnd, Horizon"
   ]
  },
  {
   "cell_type": "code",
   "execution_count": 7,
   "metadata": {},
   "outputs": [],
   "source": [
    "def get_forecast(RoadUserID, Intersection, IntID, testStart, testEnd, Horizon):\n",
    "    \n",
    "    if RoadUserID == 1:\n",
    "        gprMdl = gprPedsMdl\n",
    "    elif RoadUserID == 2: \n",
    "        gprMdl = gprCycsMdl\n",
    "    \n",
    "    dateTimeIdx = pd.date_range(start = testStart, periods = Horizon, freq = 'H');\n",
    "      \n",
    "    hour = dateTimeIdx.hour; dayOfWeek = dateTimeIdx.dayofweek;\n",
    "    \n",
    "    dates = pd.DataFrame(dateTimeIdx.date, columns=['dates']);\n",
    "    dates = dates['dates']\n",
    "    Holidays = dates.isin(HolidayCal['dates'].dt.date)\n",
    "    Holidays[Holidays == True] = 1; Holidays[Holidays == False]=0;\n",
    "    \n",
    "    lat = Locations.iloc[IntID, 0]; lng = Locations.iloc[IntID, 1]\n",
    "    \n",
    "    xTest = pd.DataFrame();\n",
    "    xTest['Hour'] = hour; xTest['DayOfWeek'] = dayOfWeek; xTest['isHoliday'] = Holidays;\n",
    "    xTest['lat'] = lat*np.ones([len(xTest),1]); \n",
    "    xTest['lng'] = lng*np.ones([len(xTest),1]);\n",
    "       \n",
    "    xTest.index = dateTimeIdx;\n",
    "    \n",
    "    yPred, yStd = gprMdl.predict(xTest, return_std=True)\n",
    "    yPred = yPred.astype('int'); yPred[yPred<0]=0\n",
    "    yPred = pd.DataFrame(yPred, columns =['forecast']); yPred.index = dateTimeIdx\n",
    "    yPred = yPred['forecast']\n",
    "    \n",
    "    yLow = yPred - 3*yStd; yLow = yLow.astype('int'); yLow[yLow<0] = 0\n",
    "    yHigh = yPred + 3*yStd; yHigh = yHigh.astype('int');\n",
    "    \n",
    "    fig = go.Figure()\n",
    "    fig.add_trace(go.Scatter(x = dateTimeIdx, y = yPred, name = 'Forecast'))\n",
    "    fig.add_trace(go.Scatter(x = dateTimeIdx, y = yLow, \n",
    "                            mode = 'lines',\n",
    "                            line = dict(width = 0.1),\n",
    "                            name = ''))\n",
    "    fig.add_trace(go.Scatter(x = dateTimeIdx, y = yHigh, fill = 'tonexty', \n",
    "                            mode = 'lines',\n",
    "                            line = dict(width=0.1),\n",
    "                            name = '99.7% confidence interval'))\n",
    "    fig.update_xaxes(title_text = 'Time')\n",
    "    if RoadUserID == 1: \n",
    "        fig.update_yaxes(title_text='Pedestrian volume')\n",
    "        fig.update_layout(title_text = 'Pedestrian traffic forecast at '+ Intersection + ' Intersection')\n",
    "    elif RoadUserID == 2:\n",
    "        fig.update_yaxes(title_text='Cyclist volume')\n",
    "        fig.update_layout(title_text = 'Cyclist traffic forecast at '+ Intersection + ' Intersection')\n",
    "    fig.show()"
   ]
  },
  {
   "cell_type": "code",
   "execution_count": 8,
   "metadata": {},
   "outputs": [],
   "source": [
    "def get_maps(RoadUserID, IntID, testStart, testEnd, Horizon):\n",
    "    \n",
    "    if RoadUserID == 1:\n",
    "        gprMdl = gprPedsMdl\n",
    "    elif RoadUserID == 2: \n",
    "        gprMdl = gprCycsMdl\n",
    "    \n",
    "    IntNames = ['Adelaide-Bay', 'Adelaide-Jarvis', 'Front-Bathurst', 'King-Portland',\n",
    "               'King-Peter', 'King-Bay', 'King-Yonge', 'King-Church', 'King-Jarvis',\n",
    "               'Richmond-Spadina','Richmond-Bay','Wellington-Blue_Jays',\n",
    "                'Wellington-Bay','King-John','Queen-Bathurst'];\n",
    "    \n",
    "    IntLoc = Locations.iloc[13,:] #13 is selected because it is the middlemost-located intersection \n",
    "    #to allow easy visualisation of all other intersections\n",
    "    \n",
    "    trafficMap = folium.Map(location= IntLoc, zoom_start = 15)\n",
    "    \n",
    "    dateTimeIdx = pd.date_range(start = testStart, periods = Horizon, freq = 'H');\n",
    "      \n",
    "    hour = dateTimeIdx.hour; dayOfWeek = dateTimeIdx.dayofweek;\n",
    "    \n",
    "    dates = pd.DataFrame(dateTimeIdx.date, columns=['dates']);\n",
    "    dates = dates['dates']\n",
    "    Holidays = dates.isin(HolidayCal['dates'].dt.date)\n",
    "    Holidays[Holidays == True] = 1; Holidays[Holidays == False]=0;\n",
    "    \n",
    "    lat = Locations.iloc[IntID, 0]; lng = Locations.iloc[IntID, 1]\n",
    "    \n",
    "    xTest = pd.DataFrame();\n",
    "    xTest['Hour'] = hour; xTest['DayOfWeek'] = dayOfWeek; xTest['isHoliday'] = Holidays;\n",
    "       \n",
    "    xTest.index = dateTimeIdx;\n",
    "    \n",
    "    IntForecasts = [ [] for i in range(Horizon) ]\n",
    "    for IntID in range(len(Locations)):\n",
    "\n",
    "        lat = Locations.iloc[IntID, 0]; lng = Locations.iloc[IntID, 1]\n",
    "\n",
    "        xTest['lat']= lat*np.ones([len(xTest),1]);\n",
    "        xTest['lng']= lng*np.ones([len(xTest),1]);\n",
    "\n",
    "        yPred, yStd = gprMdl.predict(xTest, return_std=True)\n",
    "        yPred = yPred.astype('int'); yPred[yPred<0]=0\n",
    "        yPred = pd.DataFrame(yPred, columns =['forecast']); yPred.index = dateTimeIdx;\n",
    "        yPred = yPred['forecast']\n",
    "        \n",
    "        IntLoc = Locations.iloc[IntID,:]\n",
    "        \n",
    "        folium.Marker(location = IntLoc, popup = IntNames[IntID]).add_to(trafficMap) \n",
    "        \n",
    "        for i in range(Horizon):\n",
    "            IntForecasts[i].append([IntLoc.values[0], IntLoc.values[1], yPred.values[i]])\n",
    "    \n",
    "    HeatMapWithTime(IntForecasts, radius=12, auto_play = True,\n",
    "                    gradient={0: 'blue', 0.2: 'lime', 0.4: 'orange', 0.6: 'red', 1: 'black'}, \n",
    "                    min_opacity=0.5, max_opacity=1, use_local_extrema=True).add_to(trafficMap)\n",
    "    display(trafficMap)"
   ]
  },
  {
   "cell_type": "code",
   "execution_count": 9,
   "metadata": {},
   "outputs": [],
   "source": [
    "grid = GridspecLayout(1, 4, grid_gap=\"10px\")"
   ]
  },
  {
   "cell_type": "code",
   "execution_count": 10,
   "metadata": {},
   "outputs": [],
   "source": [
    "InterSection = widgets.Dropdown(\n",
    "    options = ['Adelaide-Bay', 'Adelaide-Jarvis','Front-Bathurst', \n",
    "             'King-Bay', 'King-Church', 'King-Jarvis',\n",
    "             'King-John', 'King-Peter', 'King-Portland', \n",
    "             'King-Yonge', 'Queen-Bathurst', 'Richmond-Bay',\n",
    "             'Richmond-Spadina', 'Wellington-Bay', 'Wellington-Blue_Jays'],\n",
    "    description = 'Intersection:',\n",
    "    value = 'Adelaide-Bay',\n",
    "    disabled = False,\n",
    ")\n",
    "grid[0,1] = InterSection"
   ]
  },
  {
   "cell_type": "code",
   "execution_count": 11,
   "metadata": {},
   "outputs": [],
   "source": [
    "RoadUser = widgets.Dropdown(\n",
    "    options = ['Pedestrians', 'Cyclists'],\n",
    "    description = 'Road user:',\n",
    "    value = 'Pedestrians',\n",
    "    disabled = False,\n",
    ")\n",
    "grid[0,2] = RoadUser"
   ]
  },
  {
   "cell_type": "code",
   "execution_count": 12,
   "metadata": {},
   "outputs": [
    {
     "data": {
      "application/vnd.jupyter.widget-view+json": {
       "model_id": "8c28f0e3cecf4cf38d0147a357e8320e",
       "version_major": 2,
       "version_minor": 0
      },
      "text/plain": [
       "GridspecLayout(children=(Dropdown(description='Intersection:', layout=Layout(grid_area='widget001'), options=(…"
      ]
     },
     "metadata": {},
     "output_type": "display_data"
    }
   ],
   "source": [
    "display(grid)"
   ]
  },
  {
   "cell_type": "code",
   "execution_count": 13,
   "metadata": {},
   "outputs": [],
   "source": [
    "grid = GridspecLayout(1, 3, grid_gap = \"10px\")"
   ]
  },
  {
   "cell_type": "code",
   "execution_count": 14,
   "metadata": {},
   "outputs": [],
   "source": [
    "style = {'description_width': 'initial'}\n",
    "ForecastDate = widgets.DatePicker(\n",
    "    style = style,\n",
    "    description = 'Forecast start date:',\n",
    "    value = pd.to_datetime('2019-08-08'),\n",
    "    disabled = False\n",
    ")\n",
    "grid[0,0] = ForecastDate"
   ]
  },
  {
   "cell_type": "code",
   "execution_count": 15,
   "metadata": {},
   "outputs": [],
   "source": [
    "style = {'description_width': 'initial'}\n",
    "StartHour = widgets.Dropdown(\n",
    "    options = ['0','1', '2', '3','4','5','6','7','8','9','11','12',\n",
    "            '13','14','15','16','17','18','19','20','21','22','23','24'],\n",
    "    style = style,\n",
    "    description = 'Forecast start hour:',\n",
    "    value = '0',\n",
    "    disabled = False,\n",
    ")\n",
    "grid[0,1] = StartHour"
   ]
  },
  {
   "cell_type": "code",
   "execution_count": 16,
   "metadata": {},
   "outputs": [],
   "source": [
    "style = {'description_width': 'initial'}\n",
    "forecastHorizon = widgets.IntText(\n",
    "    value = 24,\n",
    "    style = style,\n",
    "    description = 'Forecast horizon in hours:',\n",
    "    disabled = False\n",
    ")\n",
    "grid[0,2] = forecastHorizon"
   ]
  },
  {
   "cell_type": "code",
   "execution_count": 17,
   "metadata": {},
   "outputs": [
    {
     "data": {
      "application/vnd.jupyter.widget-view+json": {
       "model_id": "6a9f59a7d0584c37917510bec57b7deb",
       "version_major": 2,
       "version_minor": 0
      },
      "text/plain": [
       "GridspecLayout(children=(DatePicker(value=Timestamp('2019-08-08 00:00:00'), description='Forecast start date:'…"
      ]
     },
     "metadata": {},
     "output_type": "display_data"
    }
   ],
   "source": [
    "display(grid)"
   ]
  },
  {
   "cell_type": "code",
   "execution_count": 18,
   "metadata": {},
   "outputs": [],
   "source": [
    "grid = GridspecLayout(1, 4, grid_gap = \"10px\")"
   ]
  },
  {
   "cell_type": "code",
   "execution_count": 19,
   "metadata": {},
   "outputs": [],
   "source": [
    "style = {'description_width': 'initial'}\n",
    "ts_button = widgets.Button(description = \"Click here for graph\",\n",
    "                          button_style = 'success')\n",
    "ts_output = widgets.Output()\n",
    "grid[0,1] = ts_button\n",
    "\n",
    "def on_ts_button_clicked(b):\n",
    "    with ts_output:\n",
    "        print('This might take a while...')\n",
    "        RoadUserID, Intersection, IntID, testStart, testEnd, Horizon = \\\n",
    "        get_param(ForecastDate, StartHour, forecastHorizon, InterSection, RoadUser)\n",
    "        \n",
    "        get_forecast(RoadUserID, Intersection, IntID, testStart, testEnd, Horizon)\n",
    "        print('Completed!')\n",
    "        ts_output.clear_output(wait = True)\n",
    "        \n",
    "ts_button.on_click(on_ts_button_clicked)"
   ]
  },
  {
   "cell_type": "code",
   "execution_count": 20,
   "metadata": {},
   "outputs": [],
   "source": [
    "style = {'description_width': 'initial'}\n",
    "maps_button = widgets.Button(description = \"Click here for map\",\n",
    "                            button_style = 'success',\n",
    "                            style = style)\n",
    "maps_output = widgets.Output()\n",
    "grid[0,2] = maps_button\n",
    "\n",
    "def on_maps_button_clicked(b):\n",
    "    with maps_output:\n",
    "        print('This might take a while...')\n",
    "        RoadUserID, Intersection, IntID, testStart, testEnd, Horizon = \\\n",
    "        get_param(ForecastDate, StartHour, forecastHorizon, InterSection, RoadUser)\n",
    "        get_maps(RoadUserID, testStart, testStart, testEnd, Horizon)\n",
    "        print('Completed!')\n",
    "        maps_output.clear_output(wait = True)\n",
    "        \n",
    "maps_button.on_click(on_maps_button_clicked)"
   ]
  },
  {
   "cell_type": "code",
   "execution_count": 21,
   "metadata": {},
   "outputs": [
    {
     "data": {
      "application/vnd.jupyter.widget-view+json": {
       "model_id": "6d6633473def48e4bc938e46255ce37e",
       "version_major": 2,
       "version_minor": 0
      },
      "text/plain": [
       "Button(description='Click below for time-series forecasts or heatmap evolving with time', disabled=True, layou…"
      ]
     },
     "metadata": {},
     "output_type": "display_data"
    }
   ],
   "source": [
    "info = widgets.Button(\n",
    "    description = 'Click below for time-series forecasts or heatmap evolving with time',\n",
    "    disabled = True,\n",
    "    button_style = ''\n",
    "    layout = Layout(width = '100%', height = '40px')\n",
    ")\n",
    "display(info)"
   ]
  },
  {
   "cell_type": "code",
   "execution_count": 22,
   "metadata": {
    "scrolled": false
   },
   "outputs": [
    {
     "data": {
      "application/vnd.jupyter.widget-view+json": {
       "model_id": "d1f3cac1f796416795a605ebe9122c5a",
       "version_major": 2,
       "version_minor": 0
      },
      "text/plain": [
       "GridspecLayout(children=(Button(button_style='success', description='Click here for graph', layout=Layout(grid…"
      ]
     },
     "metadata": {},
     "output_type": "display_data"
    },
    {
     "data": {
      "application/vnd.jupyter.widget-view+json": {
       "model_id": "736e00914c064b1585f3d63db5705f35",
       "version_major": 2,
       "version_minor": 0
      },
      "text/plain": [
       "Output()"
      ]
     },
     "metadata": {},
     "output_type": "display_data"
    },
    {
     "data": {
      "application/vnd.jupyter.widget-view+json": {
       "model_id": "52ae521e353e4f14884643a3619a09b9",
       "version_major": 2,
       "version_minor": 0
      },
      "text/plain": [
       "Output()"
      ]
     },
     "metadata": {},
     "output_type": "display_data"
    }
   ],
   "source": [
    "display(grid)\n",
    "display(ts_output)\n",
    "display(maps_output)"
   ]
  },
  {
   "cell_type": "code",
   "execution_count": null,
   "metadata": {},
   "outputs": [],
   "source": []
  }
 ],
 "metadata": {
  "kernelspec": {
   "display_name": "Python 3",
   "language": "python",
   "name": "python3"
  },
  "language_info": {
   "codemirror_mode": {
    "name": "ipython",
    "version": 3
   },
   "file_extension": ".py",
   "mimetype": "text/x-python",
   "name": "python",
   "nbconvert_exporter": "python",
   "pygments_lexer": "ipython3",
   "version": "3.7.3"
  },
  "widgets": {
   "application/vnd.jupyter.widget-state+json": {
    "state": {},
    "version_major": 2,
    "version_minor": 0
   }
  }
 },
 "nbformat": 4,
 "nbformat_minor": 2
}
