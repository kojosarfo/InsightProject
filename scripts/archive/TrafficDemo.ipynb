{
 "cells": [
  {
   "cell_type": "code",
   "execution_count": 1,
   "metadata": {},
   "outputs": [],
   "source": [
    "#This script implements pedestrian traffic forecast using Facebook's Prophet\n",
    "\n",
    "#The inputs required are: date, hour, intersection ID, frecast horizon\n",
    "\n",
    "#Requirements: 'PedestriansData.sav' or ('cycped_vol.csv' and 'weather.csv')"
   ]
  },
  {
   "cell_type": "code",
   "execution_count": 2,
   "metadata": {},
   "outputs": [],
   "source": [
    "from __future__ import print_function\n",
    "from IPython.display import display\n",
    "from ipywidgets import interact, interactive, fixed, interact_manual\n",
    "from ipywidgets import GridspecLayout, Button, Layout\n",
    "import ipywidgets as widgets\n",
    "import plotly.express as px\n",
    "import plotly.graph_objects as go\n",
    "import folium\n",
    "from folium.plugins import HeatMap, HeatMapWithTime\n",
    "import warnings\n",
    "import pickle\n",
    "import numpy as np\n",
    "import pandas as pd\n",
    "from datetime import datetime\n",
    "from fbprophet import Prophet\n",
    "#import numpy as np\n",
    "import matplotlib.pyplot as plt\n",
    "warnings.filterwarnings(\"ignore\")\n",
    "plt.style.use('fivethirtyeight')\n",
    "import pandas as pd\n",
    "#import statsmodels.api as sm\n",
    "import matplotlib\n",
    "from DataStructuring import get_data"
   ]
  },
  {
   "cell_type": "code",
   "execution_count": 3,
   "metadata": {},
   "outputs": [],
   "source": [
    "grid = GridspecLayout(1, 2, height='300px', grid_gap=\"10px\")"
   ]
  },
  {
   "cell_type": "code",
   "execution_count": 4,
   "metadata": {},
   "outputs": [],
   "source": [
    "file = open(\"pedestrianTraffic.jpg\", \"rb\")\n",
    "image = file.read()\n",
    "pedsImage=widgets.Image(\n",
    "    value=image,\n",
    "    format='jpg',\n",
    "    width=1200,\n",
    "    height=10,\n",
    ")\n",
    "grid[0,:]= pedsImage"
   ]
  },
  {
   "cell_type": "code",
   "execution_count": 5,
   "metadata": {},
   "outputs": [
    {
     "data": {
      "application/vnd.jupyter.widget-view+json": {
       "model_id": "e4f2b0025d584454a53d703c62793079",
       "version_major": 2,
       "version_minor": 0
      },
      "text/plain": [
       "GridspecLayout(children=(Image(value=b'\\xff\\xd8\\xff\\xe0\\x00\\x10JFIF\\x00\\x01\\x01\\x01\\x00`\\x00`\\x00\\x00\\xff\\xfe\\…"
      ]
     },
     "metadata": {},
     "output_type": "display_data"
    }
   ],
   "source": [
    "display(grid)"
   ]
  },
  {
   "cell_type": "code",
   "execution_count": 6,
   "metadata": {},
   "outputs": [],
   "source": [
    "#Some plot settings\n",
    "matplotlib.rcParams['axes.labelsize'] = 14\n",
    "matplotlib.rcParams['xtick.labelsize'] = 12\n",
    "matplotlib.rcParams['ytick.labelsize'] = 12\n",
    "matplotlib.rcParams['text.color'] = 'k'\n",
    "plt.close('all')\n",
    "pd.plotting.register_matplotlib_converters()"
   ]
  },
  {
   "cell_type": "code",
   "execution_count": 7,
   "metadata": {},
   "outputs": [],
   "source": [
    "#This cell requires either the files: ('PedestriansData.sav' and 'CyclistsData.sav') or ('cycped_vol.csv' and 'weather.csv')\n",
    "    \n",
    "filename = 'PedestriansData.sav'\n",
    "Pedestrians = pickle.load(open(filename, 'rb'))\n",
    "\n",
    "filename = 'CyclistsData.sav'\n",
    "Cyclists = pickle.load(open(filename, 'rb'))\n",
    "\n",
    "filename = 'Locations.sav'\n",
    "Locations = pickle.load(open(filename, 'rb'))\n",
    "\n",
    "#Pedestrians, Cyclists, Locations = get_data()"
   ]
  },
  {
   "cell_type": "code",
   "execution_count": 8,
   "metadata": {},
   "outputs": [],
   "source": [
    "def get_param(ForecastDate,StartHour,forecastHorizon,InterSection,RoadUser):\n",
    "    \n",
    "    FirstDate= ForecastDate.value\n",
    "\n",
    "    FirstTime=int(StartHour.value);\n",
    "\n",
    "    Horizon=forecastHorizon.value\n",
    "\n",
    "    testStart = datetime(FirstDate.year, FirstDate.month, FirstDate.day)\n",
    "    testStart = testStart + pd.Timedelta(hours=FirstTime);\n",
    "    testEnd = testStart + pd.Timedelta(hours=Horizon-1);\n",
    "    \n",
    "    if InterSection.value == 'Adelaide-Bay':\n",
    "        IntID= 0;\n",
    "    elif InterSection.value == 'Adelaide-Jarvis':\n",
    "        IntID= 1;\n",
    "    elif InterSection.value == 'Front-Bathurst':\n",
    "        IntID= 2;\n",
    "    elif InterSection.value == 'King-Portland':\n",
    "        IntID= 3;\n",
    "    elif InterSection.value == 'King-Peter':\n",
    "        IntID= 4;\n",
    "    elif InterSection.value == 'King-Bay':\n",
    "        IntID= 5;\n",
    "    elif InterSection.value == 'King-Yonge':\n",
    "        IntID= 6;\n",
    "    elif InterSection.value == 'King-Church':\n",
    "        IntID= 7;\n",
    "    elif InterSection.value == 'King-Jarvis':\n",
    "        IntID= 8;\n",
    "    elif InterSection.value == 'Queen-Bathurst':\n",
    "        IntID= 14;\n",
    "        print('We don\\'t have historical data for this intersection, but we will give you an estimate...')\n",
    "    elif InterSection.value == 'Richmond-Spadina':\n",
    "        IntID= 9;\n",
    "    elif InterSection.value == 'Richmond-Bay':\n",
    "        IntID= 10;\n",
    "    elif InterSection.value == 'Wellington-Blue_Jays':\n",
    "        IntID= 11;\n",
    "    elif InterSection.value == 'Wellington-Bay':\n",
    "        IntID= 12;\n",
    "    elif InterSection.value == 'King-John':\n",
    "        IntID= 13;\n",
    "        \n",
    "    if RoadUser.value == 'Pedestrians':\n",
    "        RoadUserID = 1;\n",
    "    elif RoadUser.value == 'Cyclists':\n",
    "        RoadUserID = 2;\n",
    "        \n",
    "    return RoadUserID, InterSection.value, IntID, testStart, testEnd, Horizon"
   ]
  },
  {
   "cell_type": "code",
   "execution_count": 9,
   "metadata": {},
   "outputs": [],
   "source": [
    "def get_forecast(RoadUserID, Intersection, IntID, testStart, testEnd, Horizon):\n",
    "    #print(\"This may take a while...\\n\\n\")\n",
    "    \n",
    "    if RoadUserID == 1:\n",
    "        X = Pedestrians\n",
    "    elif RoadUserID == 2:\n",
    "        X = Cyclists\n",
    "\n",
    "    TrainSize = 24*7*4;\n",
    "    trainStart = testStart - pd.Timedelta(hours = TrainSize)\n",
    "    trainEnd = testStart - pd.Timedelta(hours = 1)\n",
    "\n",
    "    Peds = X[IntID];\n",
    "    trainVolume = Peds[trainStart: trainEnd]['volume']\n",
    "\n",
    "    testVolume = Peds[testStart: testEnd]['volume'];\n",
    "    weatherForecast = Peds[trainStart: testEnd][['tempC','humidity']];\n",
    "\n",
    "    pInput = Peds[trainStart: trainEnd][['dateTimeIdx','volume',\n",
    "                 'tempC','humidity']]\n",
    "    pInput = pInput.rename(columns={\"dateTimeIdx\": \"ds\", \"volume\": \"y\"})\n",
    "\n",
    "    #Using Prophet\n",
    "    m = Prophet(yearly_seasonality=False, weekly_seasonality=True, daily_seasonality=True);\n",
    "    m.add_regressor('tempC')\n",
    "    m.add_regressor('humidity')\n",
    "    m.fit(pInput)\n",
    "    future = m.make_future_dataframe(periods = Horizon, freq = 'h');\n",
    "    future['tempC'] = weatherForecast['tempC'].values\n",
    "    future['humidity'] = weatherForecast['humidity'].values\n",
    "    forecast = m.predict(future)\n",
    "    #m.plot(forecast)\n",
    "\n",
    "    forecast_mean = forecast['yhat'][-Horizon:];\n",
    "    forecast_mean = round(forecast_mean); forecast_mean[forecast_mean<0] = 0;\n",
    "    forecastVolume = pd.DataFrame(forecast_mean);\n",
    "    #forecastVolume.rename(columns={'yhat': 'Predicted'})\n",
    "    forecastVolume.index = testVolume.index\n",
    "    forecastVolume=forecastVolume['yhat']\n",
    "\n",
    "    forecast_ci= forecast[['yhat_lower','yhat_upper']][-Horizon:];\n",
    "    forecast_ci = round(forecast_ci); forecast_ci[forecast_ci<0] = 0;\n",
    "    pred_ci= pd.DataFrame(forecast_ci);\n",
    "    pred_ci.index=testVolume.index\n",
    "    yhat_lower = pred_ci['yhat_lower']; yhat_upper = pred_ci['yhat_upper'];\n",
    "\n",
    "    ## Loading ARIMA model from disk\n",
    "    #filename = 'finalized_model.sav'\n",
    "    #results = pickle.load(open(filename, 'rb'))\n",
    "    #\n",
    "    #pred = results.get_prediction(start = testStart, end = testEnd)\n",
    "    #pred_ci = pred.conf_int();\n",
    "    #forecastVolume = pred.predicted_mean;\n",
    "    #forecastVolume = round(forecastVolume); forecastVolume[forecastVolume<0] = 0;\n",
    "    \n",
    "    histVolume = trainVolume[-2*Horizon:];\n",
    "    \n",
    "    fig = go.Figure()\n",
    "    fig.add_trace(go.Scatter(x=histVolume.index, y=histVolume, name= 'Historical'))\n",
    "    fig.add_trace(go.Scatter(x=forecastVolume.index, y=forecastVolume, name= 'Forecast'))\n",
    "    fig.add_trace(go.Scatter(x=testVolume.index, y=testVolume, name= 'Observed'))\n",
    "    fig.add_trace(go.Scatter(x=yhat_lower.index, y=yhat_lower, \n",
    "                            mode='lines',\n",
    "                            line=dict(width=0.1),\n",
    "                            name=''))\n",
    "    fig.add_trace(go.Scatter(x=yhat_upper.index, y=yhat_upper, fill = 'tonexty', \n",
    "                            mode='lines',\n",
    "                            line=dict(width=0.1),\n",
    "                            name='Confidence interval'))\n",
    "    fig.update_xaxes(title_text='Time')\n",
    "    if RoadUserID == 1: \n",
    "        fig.update_yaxes(title_text='Pedestrian volume')\n",
    "    elif RoadUserID == 2:\n",
    "        fig.update_yaxes(title_text='Cyclist volume')\n",
    "    fig.update_layout(title_text = Intersection + ' Intersection')\n",
    "    fig.show()\n",
    "\n"
   ]
  },
  {
   "cell_type": "code",
   "execution_count": 10,
   "metadata": {},
   "outputs": [],
   "source": [
    "def get_maps(RoadUserID, IntID, testStart, testEnd, Horizon):\n",
    "    #print(\"This may take a while...\\n\\n\")\n",
    "    \n",
    "    if RoadUserID == 1:\n",
    "        X = Pedestrians\n",
    "    elif RoadUserID == 2:\n",
    "        X = Cyclists\n",
    "\n",
    "    TrainSize = 24*7*4;\n",
    "    trainStart = testStart - pd.Timedelta(hours = TrainSize)\n",
    "    trainEnd = testStart - pd.Timedelta(hours = 1)\n",
    "    \n",
    "    IntNames = ['Adelaide-Bay', 'Adelaide-Jarvis', 'Front-Bathurst', 'King-Portland',\n",
    "               'King-Peter', 'King-Bay', 'King-Yonge', 'King-Church', 'King-Jarvis',\n",
    "               'Richmond-Spadina','Richmond-Bay','Wellington-Blue_Jays',\n",
    "                'Wellington-Bay','King-John','Queen-Bathurst'];\n",
    "    \n",
    "    IntLoc = Locations.iloc[0,:]\n",
    "    trafficMap = folium.Map(location= IntLoc, zoom_start = 14)\n",
    "    \n",
    "    IntForecasts = [ [] for i in range(Horizon) ]\n",
    "    for IntID in range(len(X)-1):\n",
    "        #print(IntID)\n",
    "        Peds = X[IntID];\n",
    "        trainVolume = Peds[trainStart: trainEnd]['volume']\n",
    "        \n",
    "        testVolume = Peds[testStart: testEnd]['volume'];\n",
    "        weatherForecast = Peds[trainStart: testEnd][['tempC','humidity']];\n",
    "\n",
    "        pInput = Peds[trainStart: trainEnd][['dateTimeIdx','volume',\n",
    "                     'tempC','humidity']]\n",
    "        pInput = pInput.rename(columns={\"dateTimeIdx\": \"ds\", \"volume\": \"y\"})\n",
    "        \n",
    "        #Using Prophet\n",
    "        m = Prophet(yearly_seasonality=False, weekly_seasonality=True, daily_seasonality=True);\n",
    "        m.add_regressor('tempC')\n",
    "        m.add_regressor('humidity')\n",
    "        m.fit(pInput)\n",
    "        future = m.make_future_dataframe(periods = Horizon, freq = 'h');\n",
    "        future['tempC'] = weatherForecast['tempC'].values\n",
    "        future['humidity'] = weatherForecast['humidity'].values\n",
    "        forecast = m.predict(future)\n",
    "        #m.plot(forecast)\n",
    "\n",
    "        forecast_mean = forecast['yhat'][-Horizon:];\n",
    "        forecast_mean = round(forecast_mean); forecast_mean[forecast_mean<0] = 0;\n",
    "        forecastVolume = pd.DataFrame(forecast_mean);\n",
    "        #forecastVolume.rename(columns={'yhat': 'Predicted'})\n",
    "        forecastVolume.index = testVolume.index\n",
    "        forecastVolume=forecastVolume['yhat']\n",
    "\n",
    "        forecast_ci= forecast[['yhat_lower','yhat_upper']][-Horizon:];\n",
    "        forecast_ci = round(forecast_ci); forecast_ci[forecast_ci<0] = 0;\n",
    "        pred_ci= pd.DataFrame(forecast_ci);\n",
    "        pred_ci.index=testVolume.index\n",
    "\n",
    "        ## Loading ARIMA model from disk\n",
    "        #filename = 'finalized_model.sav'\n",
    "        #results = pickle.load(open(filename, 'rb'))\n",
    "        #\n",
    "        #pred = results.get_prediction(start = testStart, end = testEnd)\n",
    "        #pred_ci = pred.conf_int();\n",
    "        #forecastVolume = pred.predicted_mean;\n",
    "        #forecastVolume = round(forecastVolume); forecastVolume[forecastVolume<0] = 0;\n",
    "        \n",
    "        IntLoc = Locations.iloc[IntID,:]\n",
    "        \n",
    "        folium.Marker(location = IntLoc, popup = IntNames[IntID]).add_to(trafficMap) \n",
    "        \n",
    "        for i in range(Horizon):\n",
    "            IntForecasts[i].append([IntLoc.values[0],IntLoc.values[1],forecast_mean.values[i]])\n",
    "    \n",
    "    #print(IntForecasts)\n",
    "    HeatMapWithTime(IntForecasts, radius=10, auto_play = True,\n",
    "                    gradient={0.2: 'blue', 0.4: 'lime', 0.6: 'orange', 1: 'red'}, \n",
    "                    min_opacity=0.5, max_opacity=0.8, use_local_extrema=True).add_to(trafficMap)\n",
    "    display(trafficMap)"
   ]
  },
  {
   "cell_type": "code",
   "execution_count": 11,
   "metadata": {},
   "outputs": [],
   "source": [
    "grid = GridspecLayout(1, 4, grid_gap=\"10px\")"
   ]
  },
  {
   "cell_type": "code",
   "execution_count": 12,
   "metadata": {},
   "outputs": [],
   "source": [
    "InterSection=widgets.Dropdown(\n",
    "    options=['Adelaide-Bay', 'Adelaide-Jarvis','Front-Bathurst', \n",
    "             'King-Bay', 'King-Church', 'King-Jarvis',\n",
    "             'King-John', 'King-Peter', 'King-Portland', \n",
    "             'King-Yonge', 'Queen-Bathurst', 'Richmond-Bay',\n",
    "             'Richmond-Spadina', 'Wellington-Bay', 'Wellington-Blue_Jays'],\n",
    "    description='Intersection:',\n",
    "    value='Adelaide-Bay',\n",
    "    disabled=False,\n",
    ")\n",
    "grid[0,1]= InterSection"
   ]
  },
  {
   "cell_type": "code",
   "execution_count": 13,
   "metadata": {},
   "outputs": [],
   "source": [
    "RoadUser=widgets.Dropdown(\n",
    "    options=['Pedestrians', 'Cyclists'],\n",
    "    description='Road user:',\n",
    "    value='Pedestrians',\n",
    "    disabled=False,\n",
    ")\n",
    "grid[0,2] = RoadUser"
   ]
  },
  {
   "cell_type": "code",
   "execution_count": 14,
   "metadata": {},
   "outputs": [
    {
     "data": {
      "application/vnd.jupyter.widget-view+json": {
       "model_id": "1a78ce990e8b4d78ad7e6471aa6da80d",
       "version_major": 2,
       "version_minor": 0
      },
      "text/plain": [
       "GridspecLayout(children=(Dropdown(description='Intersection:', layout=Layout(grid_area='widget001'), options=(…"
      ]
     },
     "metadata": {},
     "output_type": "display_data"
    }
   ],
   "source": [
    "display(grid)"
   ]
  },
  {
   "cell_type": "code",
   "execution_count": 15,
   "metadata": {},
   "outputs": [],
   "source": [
    "grid = GridspecLayout(1, 3, grid_gap=\"10px\")"
   ]
  },
  {
   "cell_type": "code",
   "execution_count": 16,
   "metadata": {},
   "outputs": [],
   "source": [
    "style = {'description_width': 'initial'}\n",
    "ForecastDate=widgets.DatePicker(\n",
    "    style=style,\n",
    "    description='Forecast start date:',\n",
    "    value= pd.to_datetime('2019-06-26'),\n",
    "    disabled=False\n",
    ")\n",
    "grid[0,0] = ForecastDate"
   ]
  },
  {
   "cell_type": "code",
   "execution_count": 17,
   "metadata": {},
   "outputs": [],
   "source": [
    "style = {'description_width': 'initial'}\n",
    "StartHour=widgets.Dropdown(\n",
    "    options=['0','1', '2', '3','4','5','6','7','8','9','11','12',\n",
    "            '13','14','15','16','17','18','19','20','21','22','23','24'],\n",
    "    style= style,\n",
    "    description='Forecast start hour:',\n",
    "    value='0',\n",
    "    disabled=False,\n",
    ")\n",
    "grid[0,1] = StartHour"
   ]
  },
  {
   "cell_type": "code",
   "execution_count": 18,
   "metadata": {},
   "outputs": [],
   "source": [
    "style = {'description_width': 'initial'}\n",
    "forecastHorizon= widgets.IntText(\n",
    "    value=24,\n",
    "    style= style,\n",
    "    description='Forecast horizon in hours:',\n",
    "    disabled=False\n",
    ")\n",
    "grid[0,2] = forecastHorizon"
   ]
  },
  {
   "cell_type": "code",
   "execution_count": 19,
   "metadata": {},
   "outputs": [
    {
     "data": {
      "application/vnd.jupyter.widget-view+json": {
       "model_id": "192b2ca49a13418eb19ad3ab9e7f4d4a",
       "version_major": 2,
       "version_minor": 0
      },
      "text/plain": [
       "GridspecLayout(children=(DatePicker(value=Timestamp('2019-06-26 00:00:00'), description='Forecast start date:'…"
      ]
     },
     "metadata": {},
     "output_type": "display_data"
    }
   ],
   "source": [
    "display(grid)"
   ]
  },
  {
   "cell_type": "code",
   "execution_count": 20,
   "metadata": {},
   "outputs": [],
   "source": [
    "grid = GridspecLayout(2, 2, grid_gap=\"10px\")"
   ]
  },
  {
   "cell_type": "code",
   "execution_count": 21,
   "metadata": {},
   "outputs": [],
   "source": [
    "ts_button = widgets.Button(description=\"Click here for forecast\")\n",
    "ts_output = widgets.Output()\n",
    "grid[0,0] = ts_button\n",
    "\n",
    "def on_ts_button_clicked(b):\n",
    "    #grid[1,:] = ts_output;\n",
    "    with ts_output:\n",
    "        RoadUserID, Intersection, IntID, testStart, testEnd, Horizon = \\\n",
    "        get_param(ForecastDate, StartHour, forecastHorizon, InterSection, RoadUser)\n",
    "        get_forecast(RoadUserID, Intersection, IntID, testStart, testEnd, Horizon)        \n",
    "        ts_output.clear_output(wait=True)\n",
    "        #maps_output.clear_output(wait=True)\n",
    "ts_button.on_click(on_ts_button_clicked)"
   ]
  },
  {
   "cell_type": "code",
   "execution_count": 22,
   "metadata": {},
   "outputs": [],
   "source": [
    "maps_button = widgets.Button(description=\"Click here for map\")\n",
    "maps_output = widgets.Output()\n",
    "grid[0,1] = maps_button\n",
    "\n",
    "def on_maps_button_clicked(b):\n",
    "    #grid[1,:] = maps_output;\n",
    "    with maps_output:\n",
    "        RoadUserID, Intersection, IntID, testStart, testEnd, Horizon = \\\n",
    "        get_param(ForecastDate, StartHour, forecastHorizon, InterSection, RoadUser)\n",
    "        get_maps(RoadUserID, testStart, testStart, testEnd, Horizon)\n",
    "        #ts_output.clear_output(wait=True)\n",
    "        maps_output.clear_output(wait=True)\n",
    "maps_button.on_click(on_maps_button_clicked)"
   ]
  },
  {
   "cell_type": "code",
   "execution_count": 23,
   "metadata": {
    "scrolled": true
   },
   "outputs": [
    {
     "data": {
      "application/vnd.jupyter.widget-view+json": {
       "model_id": "8017c1a757614e9389844290ecfc2c91",
       "version_major": 2,
       "version_minor": 0
      },
      "text/plain": [
       "GridspecLayout(children=(Button(description='Click here for forecast', layout=Layout(grid_area='widget001'), s…"
      ]
     },
     "metadata": {},
     "output_type": "display_data"
    },
    {
     "data": {
      "application/vnd.jupyter.widget-view+json": {
       "model_id": "cfcab8fafa434238853df0645c5f5166",
       "version_major": 2,
       "version_minor": 0
      },
      "text/plain": [
       "Output()"
      ]
     },
     "metadata": {},
     "output_type": "display_data"
    },
    {
     "data": {
      "application/vnd.jupyter.widget-view+json": {
       "model_id": "23cfe53a2f9748dd9162820399e59892",
       "version_major": 2,
       "version_minor": 0
      },
      "text/plain": [
       "Output()"
      ]
     },
     "metadata": {},
     "output_type": "display_data"
    }
   ],
   "source": [
    "display(grid)\n",
    "display(maps_output)\n",
    "display(ts_output)"
   ]
  },
  {
   "cell_type": "code",
   "execution_count": null,
   "metadata": {},
   "outputs": [],
   "source": []
  }
 ],
 "metadata": {
  "kernelspec": {
   "display_name": "Python 3",
   "language": "python",
   "name": "python3"
  },
  "language_info": {
   "codemirror_mode": {
    "name": "ipython",
    "version": 3
   },
   "file_extension": ".py",
   "mimetype": "text/x-python",
   "name": "python",
   "nbconvert_exporter": "python",
   "pygments_lexer": "ipython3",
   "version": "3.7.3"
  },
  "widgets": {
   "application/vnd.jupyter.widget-state+json": {
    "state": {},
    "version_major": 2,
    "version_minor": 0
   }
  }
 },
 "nbformat": 4,
 "nbformat_minor": 2
}
