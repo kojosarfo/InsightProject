{
 "cells": [
  {
   "cell_type": "code",
   "execution_count": 1,
   "metadata": {},
   "outputs": [],
   "source": [
    "from __future__ import print_function\n",
    "import ipywidgets as widgets\n",
    "from ipywidgets import GridspecLayout, Button, Layout\n",
    "import plotly.graph_objects as go\n",
    "import folium\n",
    "import warnings\n",
    "from folium.plugins import HeatMapWithTime\n",
    "import pickle\n",
    "import numpy as np\n",
    "import pandas as pd\n",
    "from datetime import datetime\n",
    "\n",
    "warnings.filterwarnings(\"ignore\")"
   ]
  },
  {
   "cell_type": "code",
   "execution_count": 2,
   "metadata": {},
   "outputs": [
    {
     "data": {
      "application/vnd.jupyter.widget-view+json": {
       "model_id": "0ed431fe5a304c869aeedc5c9a5be536",
       "version_major": 2,
       "version_minor": 0
      },
      "text/plain": [
       "Image(value=b'\\x89PNG\\r\\n\\x1a\\n\\x00\\x00\\x00\\rIHDR\\x00\\x00\\x04\\xa8\\x00\\x00\\x03\\x10\\x08\\x06\\x00\\x00\\x00\\x03\\xe3]…"
      ]
     },
     "metadata": {},
     "output_type": "display_data"
    }
   ],
   "source": [
    "file = open(\"downtowntraffic.png\", \"rb\")\n",
    "image = file.read()\n",
    "pedsImage=widgets.Image(\n",
    "    value=image,\n",
    "    format='png',\n",
    "    layout=Layout(width='100%', height='500px')\n",
    ")\n",
    "display(pedsImage)"
   ]
  },
  {
   "cell_type": "code",
   "execution_count": 3,
   "metadata": {},
   "outputs": [
    {
     "data": {
      "application/vnd.jupyter.widget-view+json": {
       "model_id": "833cf7747d8e4b35975fe1f3dfcc978c",
       "version_major": 2,
       "version_minor": 0
      },
      "text/plain": [
       "Button(button_style='info', description='This tool predicts pedestrian and cyclist traffic at selected interse…"
      ]
     },
     "metadata": {},
     "output_type": "display_data"
    }
   ],
   "source": [
    "info = widgets.Button(\n",
    "    description='This tool predicts pedestrian and cyclist traffic at selected intersections at Downtown Toronto',\n",
    "    disabled=False,\n",
    "    button_style='info', # 'success', 'info', 'warning', 'danger' or ''\n",
    "    layout=Layout(width='100%', height='40px')\n",
    ")\n",
    "display(info)"
   ]
  },
  {
   "cell_type": "code",
   "execution_count": 4,
   "metadata": {},
   "outputs": [],
   "source": [
    "filename = 'gprPedsMdl.pickle'\n",
    "gprPedsMdl = pickle.load(open(filename, 'rb'))\n",
    "\n",
    "filename = 'gprCycsMdl.pickle'\n",
    "gprCycsMdl = pickle.load(open(filename, 'rb'))\n",
    "\n",
    "#filename = 'Locations.pickle'\n",
    "#Locations = pickle.load(open(filename, 'rb'))\n",
    "\n",
    "ToLocations = pd.read_csv('miovision_intersections.csv', low_memory = False);\n",
    "Locations = ToLocations[['lat','lng']];"
   ]
  },
  {
   "cell_type": "code",
   "execution_count": 5,
   "metadata": {},
   "outputs": [],
   "source": [
    "#Hoidays in Toronto in 2019\n",
    "\n",
    "holidayDates = ['2019-01-01', '2019-02-14', '2019-02-18', '2019-03-17',\n",
    "          '2019-04-19', '2019-04-22', '2019-05-12', '2019-05-20',\n",
    "          '2019-06-16', '2019-07-01', '2019-08-05', '2019-09-02',\n",
    "          '2019-10-14', '2019-10-31', '2019-12-25', '2019-12-26']\n",
    "\n",
    "holidayDates = pd.to_datetime(holidayDates, dayfirst = True)\n",
    "HolidayCal = pd.DataFrame(holidayDates, columns = ['dates']);"
   ]
  },
  {
   "cell_type": "code",
   "execution_count": 6,
   "metadata": {},
   "outputs": [],
   "source": [
    "#Converting widget outputs to appropriate data types for get_forecast() and get_maps()\n",
    "\n",
    "def get_param(ForecastDate,StartHour,forecastHorizon,InterSection,RoadUser):\n",
    "    \n",
    "    FirstDate= ForecastDate.value\n",
    "\n",
    "    FirstTime=int(StartHour.value);\n",
    "\n",
    "    Horizon=forecastHorizon.value\n",
    "\n",
    "    testStart = datetime(FirstDate.year, FirstDate.month, FirstDate.day)\n",
    "    testStart = testStart + pd.Timedelta(hours=FirstTime);\n",
    "    \n",
    "    testEnd = testStart + pd.Timedelta(hours=Horizon-1);\n",
    "    \n",
    "    if InterSection.value == 'Adelaide-Bay':\n",
    "        IntID= 0;\n",
    "    elif InterSection.value == 'Adelaide-Jarvis':\n",
    "        IntID= 1;\n",
    "    elif InterSection.value == 'Front-Bathurst':\n",
    "        IntID= 2;\n",
    "    elif InterSection.value == 'King-Portland':\n",
    "        IntID= 3;\n",
    "    elif InterSection.value == 'King-Peter':\n",
    "        IntID= 4;\n",
    "    elif InterSection.value == 'King-Bay':\n",
    "        IntID= 5;\n",
    "    elif InterSection.value == 'King-Yonge':\n",
    "        IntID= 6;\n",
    "    elif InterSection.value == 'King-Church':\n",
    "        IntID= 7;\n",
    "    elif InterSection.value == 'King-Jarvis':\n",
    "        IntID= 8;\n",
    "    elif InterSection.value == 'Queen-Bathurst':\n",
    "        IntID= 14;\n",
    "        print('We don\\'t have historical data for this intersection, but we will give you an estimate...')\n",
    "    elif InterSection.value == 'Richmond-Spadina':\n",
    "        IntID= 9;\n",
    "    elif InterSection.value == 'Richmond-Bay':\n",
    "        IntID= 10;\n",
    "    elif InterSection.value == 'Wellington-Blue_Jays':\n",
    "        IntID= 11;\n",
    "    elif InterSection.value == 'Wellington-Bay':\n",
    "        IntID= 12;\n",
    "    elif InterSection.value == 'King-John':\n",
    "        IntID= 13;\n",
    "        \n",
    "    if RoadUser.value == 'Pedestrians':\n",
    "        RoadUserID = 1;\n",
    "    elif RoadUser.value == 'Cyclists':\n",
    "        RoadUserID = 2;\n",
    "        \n",
    "    return RoadUserID, InterSection.value, IntID, testStart, testEnd, Horizon"
   ]
  },
  {
   "cell_type": "code",
   "execution_count": 7,
   "metadata": {},
   "outputs": [],
   "source": [
    "def get_forecast(RoadUserID, Intersection, IntID, testStart, testEnd, Horizon):\n",
    "    \n",
    "    if RoadUserID == 1:\n",
    "        gprMdl = gprPedsMdl\n",
    "    elif RoadUserID == 2: \n",
    "        gprMdl = gprCycsMdl\n",
    "    \n",
    "    dateTimeIdx = pd.date_range(start = testStart, periods = Horizon, freq = 'H');\n",
    "      \n",
    "    hour = dateTimeIdx.hour; dayOfWeek = dateTimeIdx.dayofweek;\n",
    "    \n",
    "    dates = pd.DataFrame(dateTimeIdx.date, columns=['dates']);\n",
    "    dates = dates['dates']\n",
    "    Holidays = dates.isin(HolidayCal['dates'].dt.date)\n",
    "    Holidays[Holidays == True] = 1; Holidays[Holidays == False]=0;\n",
    "    \n",
    "    lat = Locations.iloc[IntID, 0]; lng = Locations.iloc[IntID, 1]\n",
    "    \n",
    "    xTest = pd.DataFrame();\n",
    "    xTest['Hour'] = hour; xTest['DayOfWeek'] = dayOfWeek; xTest['isHoliday'] = Holidays;\n",
    "    xTest['lat'] = lat*np.ones([len(xTest),1]); \n",
    "    xTest['lng'] = lng*np.ones([len(xTest),1]);\n",
    "       \n",
    "    xTest.index = dateTimeIdx;\n",
    "    \n",
    "    yPred, yStd = gprMdl.predict(xTest, return_std=True)\n",
    "    yPred = yPred.astype('int'); yPred[yPred<0]=0\n",
    "    yPred = pd.DataFrame(yPred, columns =['forecast']); yPred.index = dateTimeIdx\n",
    "    yPred = yPred['forecast']\n",
    "    \n",
    "    yLow = yPred - 3*yStd; yLow = yLow.astype('int'); yLow[yLow<0] = 0\n",
    "    yHigh = yPred + 3*yStd; yHigh = yHigh.astype('int');\n",
    "    \n",
    "    fig = go.Figure()\n",
    "    fig.add_trace(go.Scatter(x = dateTimeIdx, y = yPred, name = 'Forecast'))\n",
    "    fig.add_trace(go.Scatter(x = dateTimeIdx, y = yLow, \n",
    "                            mode = 'lines',\n",
    "                            line = dict(width = 0.1),\n",
    "                            name = ''))\n",
    "    fig.add_trace(go.Scatter(x = dateTimeIdx, y = yHigh, fill = 'tonexty', \n",
    "                            mode = 'lines',\n",
    "                            line = dict(width=0.1),\n",
    "                            name = '99.7% confidence interval'))\n",
    "    fig.update_xaxes(title_text = 'Time')\n",
    "    if RoadUserID == 1: \n",
    "        fig.update_yaxes(title_text='Pedestrian volume')\n",
    "        fig.update_layout(title_text = 'Pedestrian traffic forecast at '+ Intersection + ' Intersection')\n",
    "    elif RoadUserID == 2:\n",
    "        fig.update_yaxes(title_text='Cyclist volume')\n",
    "        fig.update_layout(title_text = 'Cyclist traffic forecast at '+ Intersection + ' Intersection')\n",
    "    fig.show()"
   ]
  },
  {
   "cell_type": "code",
   "execution_count": 8,
   "metadata": {},
   "outputs": [],
   "source": [
    "def get_maps(RoadUserID, IntID, testStart, testEnd, Horizon):\n",
    "    \n",
    "    if RoadUserID == 1:\n",
    "        gprMdl = gprPedsMdl\n",
    "    elif RoadUserID == 2: \n",
    "        gprMdl = gprCycsMdl\n",
    "    \n",
    "    IntNames = ['Adelaide-Bay', 'Adelaide-Jarvis', 'Front-Bathurst', 'King-Portland',\n",
    "               'King-Peter', 'King-Bay', 'King-Yonge', 'King-Church', 'King-Jarvis',\n",
    "               'Richmond-Spadina','Richmond-Bay','Wellington-Blue_Jays',\n",
    "                'Wellington-Bay','King-John','Queen-Bathurst'];\n",
    "    \n",
    "    IntLoc = Locations.iloc[13,:] #13 is selected because it is the middlemost-located intersection \n",
    "    #to allow easy visualisation of all other intersections\n",
    "    \n",
    "    trafficMap = folium.Map(location= IntLoc, zoom_start = 15)\n",
    "    \n",
    "    dateTimeIdx = pd.date_range(start = testStart, periods = Horizon, freq = 'H');\n",
    "      \n",
    "    hour = dateTimeIdx.hour; dayOfWeek = dateTimeIdx.dayofweek;\n",
    "    \n",
    "    dates = pd.DataFrame(dateTimeIdx.date, columns=['dates']);\n",
    "    dates = dates['dates']\n",
    "    Holidays = dates.isin(HolidayCal['dates'].dt.date)\n",
    "    Holidays[Holidays == True] = 1; Holidays[Holidays == False]=0;\n",
    "    \n",
    "    xTest = pd.DataFrame();\n",
    "    xTest['Hour'] = hour; xTest['DayOfWeek'] = dayOfWeek; xTest['isHoliday'] = Holidays;\n",
    "       \n",
    "    xTest.index = dateTimeIdx;\n",
    "    \n",
    "    IntForecasts = [ [] for i in range(Horizon) ]\n",
    "    for IntID in range(len(Locations)):\n",
    "\n",
    "        lat = Locations.iloc[IntID, 0]; lng = Locations.iloc[IntID, 1]\n",
    "\n",
    "        xTest['lat']= lat*np.ones([len(xTest),1]);\n",
    "        xTest['lng']= lng*np.ones([len(xTest),1]);\n",
    "\n",
    "        yPred, yStd = gprMdl.predict(xTest, return_std=True)\n",
    "        yPred = yPred.astype('int'); yPred[yPred<0]=0\n",
    "        yPred = pd.DataFrame(yPred, columns =['forecast']); yPred.index = dateTimeIdx;\n",
    "        yPred = yPred['forecast']\n",
    "        \n",
    "        IntLoc = Locations.iloc[IntID,:]\n",
    "        \n",
    "        folium.Marker(location = IntLoc, popup = IntNames[IntID]).add_to(trafficMap) \n",
    "        \n",
    "        for i in range(Horizon):\n",
    "            IntForecasts[i].append([IntLoc.values[0], IntLoc.values[1], yPred.values[i]])\n",
    "    \n",
    "    HeatMapWithTime(IntForecasts, radius=12, auto_play = True,\n",
    "                    gradient={0: 'blue', 0.2: 'lime', 0.4: 'orange', 0.6: 'red', 1: 'black'}, \n",
    "                    min_opacity=0.5, max_opacity=1, use_local_extrema=True).add_to(trafficMap)\n",
    "    display(trafficMap)"
   ]
  },
  {
   "cell_type": "code",
   "execution_count": 9,
   "metadata": {},
   "outputs": [],
   "source": [
    "grid = GridspecLayout(1, 4, grid_gap=\"10px\")"
   ]
  },
  {
   "cell_type": "code",
   "execution_count": 10,
   "metadata": {},
   "outputs": [],
   "source": [
    "InterSection = widgets.Dropdown(\n",
    "    options = ['Adelaide-Bay', 'Adelaide-Jarvis','Front-Bathurst', \n",
    "             'King-Bay', 'King-Church', 'King-Jarvis',\n",
    "             'King-John', 'King-Peter', 'King-Portland', \n",
    "             'King-Yonge', 'Queen-Bathurst', 'Richmond-Bay',\n",
    "             'Richmond-Spadina', 'Wellington-Bay', 'Wellington-Blue_Jays'],\n",
    "    description = 'Intersection:',\n",
    "    value = 'Adelaide-Bay',\n",
    "    disabled = False,\n",
    ")\n",
    "grid[0,1] = InterSection"
   ]
  },
  {
   "cell_type": "code",
   "execution_count": 11,
   "metadata": {},
   "outputs": [],
   "source": [
    "RoadUser = widgets.Dropdown(\n",
    "    options = ['Pedestrians', 'Cyclists'],\n",
    "    description = 'Road user:',\n",
    "    value = 'Pedestrians',\n",
    "    disabled = False,\n",
    ")\n",
    "grid[0,2] = RoadUser"
   ]
  },
  {
   "cell_type": "code",
   "execution_count": 12,
   "metadata": {},
   "outputs": [
    {
     "data": {
      "application/vnd.jupyter.widget-view+json": {
       "model_id": "c3b78e7858204fa28cbbd014cbabfa81",
       "version_major": 2,
       "version_minor": 0
      },
      "text/plain": [
       "GridspecLayout(children=(Dropdown(description='Intersection:', layout=Layout(grid_area='widget001'), options=(…"
      ]
     },
     "metadata": {},
     "output_type": "display_data"
    }
   ],
   "source": [
    "display(grid)"
   ]
  },
  {
   "cell_type": "code",
   "execution_count": 13,
   "metadata": {},
   "outputs": [],
   "source": [
    "grid = GridspecLayout(1, 3, grid_gap = \"10px\")"
   ]
  },
  {
   "cell_type": "code",
   "execution_count": 14,
   "metadata": {},
   "outputs": [],
   "source": [
    "style = {'description_width': 'initial'}\n",
    "ForecastDate = widgets.DatePicker(\n",
    "    style = style,\n",
    "    description = 'Forecast start date:',\n",
    "    value = pd.to_datetime('2019-08-08'),\n",
    "    disabled = False\n",
    ")\n",
    "grid[0,0] = ForecastDate"
   ]
  },
  {
   "cell_type": "code",
   "execution_count": 15,
   "metadata": {},
   "outputs": [],
   "source": [
    "style = {'description_width': 'initial'}\n",
    "StartHour = widgets.Dropdown(\n",
    "    options = ['0','1', '2', '3','4','5','6','7','8','9','11','12',\n",
    "            '13','14','15','16','17','18','19','20','21','22','23','24'],\n",
    "    style = style,\n",
    "    description = 'Forecast start hour:',\n",
    "    value = '0',\n",
    "    disabled = False,\n",
    ")\n",
    "grid[0,1] = StartHour"
   ]
  },
  {
   "cell_type": "code",
   "execution_count": 16,
   "metadata": {},
   "outputs": [],
   "source": [
    "style = {'description_width': 'initial'}\n",
    "forecastHorizon = widgets.IntText(\n",
    "    value = 24,\n",
    "    style = style,\n",
    "    description = 'Forecast horizon in hours:',\n",
    "    disabled = False\n",
    ")\n",
    "grid[0,2] = forecastHorizon"
   ]
  },
  {
   "cell_type": "code",
   "execution_count": 17,
   "metadata": {},
   "outputs": [
    {
     "data": {
      "application/vnd.jupyter.widget-view+json": {
       "model_id": "21e62b39032948c78e9626b3c45d38de",
       "version_major": 2,
       "version_minor": 0
      },
      "text/plain": [
       "GridspecLayout(children=(DatePicker(value=Timestamp('2019-08-08 00:00:00'), description='Forecast start date:'…"
      ]
     },
     "metadata": {},
     "output_type": "display_data"
    }
   ],
   "source": [
    "display(grid)"
   ]
  },
  {
   "cell_type": "code",
   "execution_count": 18,
   "metadata": {},
   "outputs": [],
   "source": [
    "grid = GridspecLayout(1, 4, grid_gap = \"10px\")"
   ]
  },
  {
   "cell_type": "code",
   "execution_count": 32,
   "metadata": {},
   "outputs": [],
   "source": [
    "style = {'description_width': 'initial'}\n",
    "ts_button = widgets.Button(description = \"Click here for graph\",\n",
    "                          button_style = 'success')\n",
    "ts_output = widgets.Output()\n",
    "grid[0,1] = ts_button\n",
    "\n",
    "status_msg = widgets.Output()\n",
    "\n",
    "def on_ts_button_clicked(b):\n",
    "    with status_msg:\n",
    "        print('This might take a while...')\n",
    "    with ts_output:\n",
    "        RoadUserID, Intersection, IntID, testStart, testEnd, Horizon = \\\n",
    "        get_param(ForecastDate, StartHour, forecastHorizon, InterSection, RoadUser)\n",
    "        \n",
    "        get_forecast(RoadUserID, Intersection, IntID, testStart, testEnd, Horizon)\n",
    "        status_msg.clear_output()\n",
    "        print('Completed!')\n",
    "        ts_output.clear_output(wait = True)\n",
    "        \n",
    "ts_button.on_click(on_ts_button_clicked)"
   ]
  },
  {
   "cell_type": "code",
   "execution_count": 33,
   "metadata": {},
   "outputs": [],
   "source": [
    "style = {'description_width': 'initial'}\n",
    "maps_button = widgets.Button(description = \"Click here for map\",\n",
    "                            button_style = 'success',\n",
    "                            style = style)\n",
    "maps_output = widgets.Output()\n",
    "grid[0,2] = maps_button\n",
    "\n",
    "def on_maps_button_clicked(b):\n",
    "    with maps_output:\n",
    "        print('This might take a while...')\n",
    "        RoadUserID, Intersection, IntID, testStart, testEnd, Horizon = \\\n",
    "        get_param(ForecastDate, StartHour, forecastHorizon, InterSection, RoadUser)\n",
    "        get_maps(RoadUserID, testStart, testStart, testEnd, Horizon)\n",
    "        print('Completed!')\n",
    "        maps_output.clear_output(wait = True)\n",
    "        \n",
    "maps_button.on_click(on_maps_button_clicked)"
   ]
  },
  {
   "cell_type": "code",
   "execution_count": 34,
   "metadata": {},
   "outputs": [
    {
     "data": {
      "application/vnd.jupyter.widget-view+json": {
       "model_id": "512363e51446439a8f83374032aa5e15",
       "version_major": 2,
       "version_minor": 0
      },
      "text/plain": [
       "Button(description='Click below for time-series forecasts or heatmap evolving with time', disabled=True, layou…"
      ]
     },
     "metadata": {},
     "output_type": "display_data"
    }
   ],
   "source": [
    "info = widgets.Button(\n",
    "    description = 'Click below for time-series forecasts or heatmap evolving with time',\n",
    "    disabled = True,\n",
    "    button_style = '',\n",
    "    layout = Layout(width = '100%', height = '40px')\n",
    ")\n",
    "display(info)"
   ]
  },
  {
   "cell_type": "code",
   "execution_count": 35,
   "metadata": {},
   "outputs": [
    {
     "data": {
      "application/vnd.jupyter.widget-view+json": {
       "model_id": "ed25560da04f48f08e8d17313d0d9b45",
       "version_major": 2,
       "version_minor": 0
      },
      "text/plain": [
       "GridspecLayout(children=(Button(button_style='success', description='Click here for graph', layout=Layout(grid…"
      ]
     },
     "metadata": {},
     "output_type": "display_data"
    },
    {
     "data": {
      "application/vnd.jupyter.widget-view+json": {
       "model_id": "261462938d7842ecb506d056be6afe03",
       "version_major": 2,
       "version_minor": 0
      },
      "text/plain": [
       "Output()"
      ]
     },
     "metadata": {},
     "output_type": "display_data"
    },
    {
     "data": {
      "application/vnd.jupyter.widget-view+json": {
       "model_id": "d5c272cc64d3403ea157c74c087784e4",
       "version_major": 2,
       "version_minor": 0
      },
      "text/plain": [
       "Output()"
      ]
     },
     "metadata": {},
     "output_type": "display_data"
    }
   ],
   "source": [
    "display(grid)\n",
    "display(ts_output)\n",
    "display(maps_output)"
   ]
  },
  {
   "cell_type": "code",
   "execution_count": 313,
   "metadata": {},
   "outputs": [],
   "source": [
    "filename = 'CyclistsData.sav'\n",
    "Cyclists = pickle.load(open(filename, 'rb'))\n",
    "Cycs = Cyclists[2]"
   ]
  },
  {
   "cell_type": "code",
   "execution_count": 332,
   "metadata": {},
   "outputs": [],
   "source": [
    "startTime = pd.to_datetime('2019-08-01 00:00:00');\n",
    "endTime = pd.to_datetime('2019-08-31 23:00:00');\n",
    "X = Cycs[startTime: endTime]\n",
    "#X = Cycs\n",
    "#y = Cycs['volume']"
   ]
  },
  {
   "cell_type": "code",
   "execution_count": 333,
   "metadata": {},
   "outputs": [
    {
     "data": {
      "text/plain": [
       "744"
      ]
     },
     "execution_count": 333,
     "metadata": {},
     "output_type": "execute_result"
    }
   ],
   "source": [
    "len(X)"
   ]
  },
  {
   "cell_type": "code",
   "execution_count": 334,
   "metadata": {},
   "outputs": [],
   "source": [
    "X = X.dropna()"
   ]
  },
  {
   "cell_type": "code",
   "execution_count": 335,
   "metadata": {},
   "outputs": [
    {
     "data": {
      "text/plain": [
       "485"
      ]
     },
     "execution_count": 335,
     "metadata": {},
     "output_type": "execute_result"
    }
   ],
   "source": [
    "len(X)"
   ]
  },
  {
   "cell_type": "code",
   "execution_count": 336,
   "metadata": {},
   "outputs": [],
   "source": [
    "y = X['volume']"
   ]
  },
  {
   "cell_type": "code",
   "execution_count": 337,
   "metadata": {},
   "outputs": [],
   "source": [
    "x = y.index"
   ]
  },
  {
   "cell_type": "code",
   "execution_count": 338,
   "metadata": {},
   "outputs": [],
   "source": [
    "import matplotlib.pyplot as plt"
   ]
  },
  {
   "cell_type": "code",
   "execution_count": 339,
   "metadata": {},
   "outputs": [
    {
     "data": {
      "text/plain": [
       "[<matplotlib.lines.Line2D at 0x1a29c5a438>]"
      ]
     },
     "execution_count": 339,
     "metadata": {},
     "output_type": "execute_result"
    },
    {
     "data": {
      "image/png": "[encoded data removed]",
      "text/plain": [
       "<Figure size 432x288 with 1 Axes>"
      ]
     },
     "metadata": {
      "needs_background": "light"
     },
     "output_type": "display_data"
    }
   ],
   "source": [
    "plt.plot(x, y, 'ro')"
   ]
  },
  {
   "cell_type": "code",
   "execution_count": 212,
   "metadata": {},
   "outputs": [
    {
     "data": {
      "text/plain": [
       "2427"
      ]
     },
     "execution_count": 212,
     "metadata": {},
     "output_type": "execute_result"
    }
   ],
   "source": [
    "len(X)"
   ]
  },
  {
   "cell_type": "code",
   "execution_count": 312,
   "metadata": {},
   "outputs": [
    {
     "ename": "ValueError",
     "evalue": "ro is not a valid plot kind",
     "output_type": "error",
     "traceback": [
      "\u001b[0;31m---------------------------------------------------------------------------\u001b[0m",
      "\u001b[0;31mValueError\u001b[0m                                Traceback (most recent call last)",
      "\u001b[0;32m<ipython-input-312-517bf7faa712>\u001b[0m in \u001b[0;36m<module>\u001b[0;34m\u001b[0m\n\u001b[0;32m----> 1\u001b[0;31m \u001b[0my\u001b[0m\u001b[0;34m.\u001b[0m\u001b[0mplot\u001b[0m\u001b[0;34m(\u001b[0m\u001b[0;34m'ro'\u001b[0m\u001b[0;34m)\u001b[0m\u001b[0;34m\u001b[0m\u001b[0;34m\u001b[0m\u001b[0m\n\u001b[0m",
      "\u001b[0;32m/GitFolder/anaconda3/lib/python3.7/site-packages/pandas/plotting/_core.py\u001b[0m in \u001b[0;36m__call__\u001b[0;34m(self, *args, **kwargs)\u001b[0m\n\u001b[1;32m    724\u001b[0m         \u001b[0mkind\u001b[0m \u001b[0;34m=\u001b[0m \u001b[0mself\u001b[0m\u001b[0;34m.\u001b[0m\u001b[0m_kind_aliases\u001b[0m\u001b[0;34m.\u001b[0m\u001b[0mget\u001b[0m\u001b[0;34m(\u001b[0m\u001b[0mkind\u001b[0m\u001b[0;34m,\u001b[0m \u001b[0mkind\u001b[0m\u001b[0;34m)\u001b[0m\u001b[0;34m\u001b[0m\u001b[0;34m\u001b[0m\u001b[0m\n\u001b[1;32m    725\u001b[0m         \u001b[0;32mif\u001b[0m \u001b[0mkind\u001b[0m \u001b[0;32mnot\u001b[0m \u001b[0;32min\u001b[0m \u001b[0mself\u001b[0m\u001b[0;34m.\u001b[0m\u001b[0m_all_kinds\u001b[0m\u001b[0;34m:\u001b[0m\u001b[0;34m\u001b[0m\u001b[0;34m\u001b[0m\u001b[0m\n\u001b[0;32m--> 726\u001b[0;31m             \u001b[0;32mraise\u001b[0m \u001b[0mValueError\u001b[0m\u001b[0;34m(\u001b[0m\u001b[0;34m\"{} is not a valid plot kind\"\u001b[0m\u001b[0;34m.\u001b[0m\u001b[0mformat\u001b[0m\u001b[0;34m(\u001b[0m\u001b[0mkind\u001b[0m\u001b[0;34m)\u001b[0m\u001b[0;34m)\u001b[0m\u001b[0;34m\u001b[0m\u001b[0;34m\u001b[0m\u001b[0m\n\u001b[0m\u001b[1;32m    727\u001b[0m \u001b[0;34m\u001b[0m\u001b[0m\n\u001b[1;32m    728\u001b[0m         \u001b[0;31m# The original data structured can be transformed before passed to the\u001b[0m\u001b[0;34m\u001b[0m\u001b[0;34m\u001b[0m\u001b[0;34m\u001b[0m\u001b[0m\n",
      "\u001b[0;31mValueError\u001b[0m: ro is not a valid plot kind"
     ]
    }
   ],
   "source": [
    "y.plot('ro')"
   ]
  },
  {
   "cell_type": "code",
   "execution_count": 340,
   "metadata": {},
   "outputs": [
    {
     "data": {
      "text/plain": [
       "4"
      ]
     },
     "execution_count": 340,
     "metadata": {},
     "output_type": "execute_result"
    }
   ],
   "source": [
    "2*2"
   ]
  },
  {
   "cell_type": "code",
   "execution_count": 343,
   "metadata": {},
   "outputs": [
    {
     "data": {
      "text/plain": [
       "4515840"
      ]
     },
     "execution_count": 343,
     "metadata": {},
     "output_type": "execute_result"
    }
   ],
   "source": [
    "60*24*7*4*4*14*2"
   ]
  },
  {
   "cell_type": "code",
   "execution_count": 344,
   "metadata": {},
   "outputs": [],
   "source": [
    "import random"
   ]
  },
  {
   "cell_type": "code",
   "execution_count": 349,
   "metadata": {},
   "outputs": [
    {
     "data": {
      "text/plain": [
       "[11, 4, 2, 12, 13, 5, 9, 1, 10, 3]"
      ]
     },
     "execution_count": 349,
     "metadata": {},
     "output_type": "execute_result"
    }
   ],
   "source": [
    "random.sample(list(np.arange(0,14)),10)"
   ]
  },
  {
   "cell_type": "code",
   "execution_count": 347,
   "metadata": {},
   "outputs": [
    {
     "data": {
      "text/plain": [
       "[0, 1, 2, 3, 4, 5, 6, 7, 8, 9, 10, 11, 12, 13]"
      ]
     },
     "execution_count": 347,
     "metadata": {},
     "output_type": "execute_result"
    }
   ],
   "source": [
    "list(np.arange(0,14))"
   ]
  },
  {
   "cell_type": "code",
   "execution_count": null,
   "metadata": {},
   "outputs": [],
   "source": []
  }
 ],
 "metadata": {
  "kernelspec": {
   "display_name": "Python 3",
   "language": "python",
   "name": "python3"
  },
  "language_info": {
   "codemirror_mode": {
    "name": "ipython",
    "version": 3
   },
   "file_extension": ".py",
   "mimetype": "text/x-python",
   "name": "python",
   "nbconvert_exporter": "python",
   "pygments_lexer": "ipython3",
   "version": "3.7.3"
  }
 },
 "nbformat": 4,
 "nbformat_minor": 2
}
