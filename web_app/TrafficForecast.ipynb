{
 "cells": [
  {
   "cell_type": "code",
   "execution_count": 124,
   "metadata": {},
   "outputs": [],
   "source": [
    "from __future__ import print_function\n",
    "import ipywidgets as widgets\n",
    "from ipywidgets import GridspecLayout, Button, Layout\n",
    "import plotly.graph_objects as go\n",
    "import folium\n",
    "import warnings\n",
    "from folium.plugins import HeatMapWithTime\n",
    "import pickle\n",
    "import numpy as np\n",
    "import pandas as pd\n",
    "from datetime import datetime\n",
    "\n",
    "warnings.filterwarnings(\"ignore\")"
   ]
  },
  {
   "cell_type": "code",
   "execution_count": 125,
   "metadata": {},
   "outputs": [
    {
     "data": {
      "application/vnd.jupyter.widget-view+json": {
       "model_id": "8fe42008fc804461a88c11235fb1302c",
       "version_major": 2,
       "version_minor": 0
      },
      "text/plain": [
       "Image(value=b'\\xff\\xd8\\xff\\xe0\\x00\\x10JFIF\\x00\\x01\\x01\\x01\\x00`\\x00`\\x00\\x00\\xff\\xfe\\x00;CREATOR: gd-jpeg v1.0…"
      ]
     },
     "metadata": {},
     "output_type": "display_data"
    }
   ],
   "source": [
    "# This widget displays pedestrian traffic image on the webpage\n",
    "file = open(\"pedestrianTraffic.jpg\", \"rb\")\n",
    "image = file.read()\n",
    "pedsImage=widgets.Image(\n",
    "    value=image,\n",
    "    format='jpg',\n",
    "    layout=Layout(width='100%', height='500px')\n",
    ")\n",
    "display(pedsImage)"
   ]
  },
  {
   "cell_type": "code",
   "execution_count": 126,
   "metadata": {},
   "outputs": [
    {
     "data": {
      "application/vnd.jupyter.widget-view+json": {
       "model_id": "1a0cd45f922341c3adfdbf27ae207e59",
       "version_major": 2,
       "version_minor": 0
      },
      "text/plain": [
       "Button(button_style='info', description='This tool predicts pedestrian and cyclist traffic at selected interse…"
      ]
     },
     "metadata": {},
     "output_type": "display_data"
    }
   ],
   "source": [
    "#This widget displays information about the webpage\n",
    "info = widgets.Button(\n",
    "    description='This tool predicts pedestrian and cyclist traffic at selected intersections at Downtown Toronto',\n",
    "    disabled=False,\n",
    "    button_style='info', # 'success', 'info', 'warning', 'danger' or ''\n",
    "    layout=Layout(width='100%', height='40px')\n",
    ")\n",
    "display(info)"
   ]
  },
  {
   "cell_type": "code",
   "execution_count": 127,
   "metadata": {},
   "outputs": [],
   "source": [
    "# Reading saved models; these models implement Gaussian process regression on pedestrian and cyclist data\n",
    "filename = 'gprPedsMdl.pickle'\n",
    "gprPedsMdl = pickle.load(open(filename, 'rb'))\n",
    "\n",
    "filename = 'gprCycsMdl.pickle'\n",
    "gprCycsMdl = pickle.load(open(filename, 'rb'))\n",
    "\n",
    "ToLocations = pd.read_csv('miovision_intersections.csv', low_memory = False);\n",
    "Locations = ToLocations[['lat','lng']];"
   ]
  },
  {
   "cell_type": "code",
   "execution_count": 128,
   "metadata": {},
   "outputs": [],
   "source": [
    "#Hoidays in Toronto in 2019; That a given day is a holiday was found to be indicative of pedestrian/ cylcist traffic\n",
    "\n",
    "holidayDates = ['2019-01-01', '2019-02-14', '2019-02-18', '2019-03-17',\n",
    "          '2019-04-19', '2019-04-22', '2019-05-12', '2019-05-20',\n",
    "          '2019-06-16', '2019-07-01', '2019-08-05', '2019-09-02',\n",
    "          '2019-10-14', '2019-10-31', '2019-12-25', '2019-12-26']\n",
    "\n",
    "holidayDates = pd.to_datetime(holidayDates, dayfirst = True)\n",
    "HolidayCal = pd.DataFrame(holidayDates, columns = ['dates']);"
   ]
  },
  {
   "cell_type": "code",
   "execution_count": 129,
   "metadata": {},
   "outputs": [],
   "source": [
    "IntersectionDict = {'Adelaide-Bay': 0, 'Adelaide-Jarvis': 1, 'Front-Bathurst': 2, 'King-Portland': 3,\n",
    "                   'King-Peter': 4, 'King-Bay': 5, 'King-Yonge': 6, 'King-Church': 7, 'King-Jarvis': 8,\n",
    "                   'Queen-Bathurst': 14, 'Richmond-Spadina': 9, 'Richmond-Bay': 10, 'Wellington-Blue_Jays': 11,\n",
    "                   'Wellington-Bay': 12, 'King-John': 13}"
   ]
  },
  {
   "cell_type": "code",
   "execution_count": 130,
   "metadata": {},
   "outputs": [],
   "source": [
    "#User inputs are saved as widget outputs: these need to be converted to the appropriate data types for the functions..\n",
    "# get_forecast() and get_maps(), which implement forecasting based on Gaussian process regression\n",
    "\n",
    "def get_param(ForecastDate,StartHour,forecastHorizon,InterSection,RoadUser):\n",
    "    \n",
    "    FirstDate= ForecastDate.value #This is the first date for which a user wants forecast\n",
    "\n",
    "    FirstTime=int(StartHour.value); #This is the first hour for which a user wants forecast on FirstDate\n",
    "\n",
    "    Horizon=forecastHorizon.value; #This is how long in the future (in hours) a user wants traffic forecasts,\n",
    "    #starting from FirstDate+FirstTime\n",
    "\n",
    "    testStart = datetime(FirstDate.year, FirstDate.month, FirstDate.day)\n",
    "    testStart = testStart + pd.Timedelta(hours=FirstTime);\n",
    "    \n",
    "    testEnd = testStart + pd.Timedelta(hours=Horizon-1);\n",
    "    \n",
    "    IntID = IntersectionDict[InterSection.value]\n",
    "        \n",
    "    if RoadUser.value == 'Pedestrians':\n",
    "        RoadUserID = 1;\n",
    "    elif RoadUser.value == 'Cyclists':\n",
    "        RoadUserID = 2;\n",
    "        \n",
    "    return RoadUserID, InterSection.value, IntID, testStart, testEnd, Horizon"
   ]
  },
  {
   "cell_type": "code",
   "execution_count": 307,
   "metadata": {},
   "outputs": [],
   "source": [
    "def get_forecast(RoadUserID, Intersection, IntID, testStart, testEnd, Horizon):\n",
    "    \n",
    "    if RoadUserID == 1:\n",
    "        gprMdl = gprPedsMdl\n",
    "    elif RoadUserID == 2: \n",
    "        gprMdl = gprCycsMdl\n",
    "    \n",
    "    dateTimeIdx = pd.date_range(start = testStart, periods = Horizon, freq = 'H');\n",
    "      \n",
    "    hour = dateTimeIdx.hour; dayOfWeek = dateTimeIdx.dayofweek; month = dateTimeIdx.month\n",
    "    \n",
    "    dates = pd.DataFrame(dateTimeIdx.date, columns=['dates']);\n",
    "    dates = dates['dates']\n",
    "    Holidays = dates.isin(HolidayCal['dates'].dt.date)\n",
    "    Holidays[Holidays == True] = 1; Holidays[Holidays == False]=0;\n",
    "    \n",
    "    lat = Locations.iloc[IntID, 0]; lng = Locations.iloc[IntID, 1]\n",
    "    \n",
    "    #Creating the input vector to the Gaussian process regression model, which is made up of: hour, day of week,\n",
    "    # binary holiday variable, latitude and longitude\n",
    "    xTest = pd.DataFrame();\n",
    "    xTest.insert(0, 'Hour', hour);\n",
    "    xTest.insert(1, 'DayOfWeek', dayOfWeek)\n",
    "    xTest.insert(2, 'isHoliday', Holidays)\n",
    "    xTest.insert(3, 'lat', lat*np.ones([len(xTest),1]));\n",
    "    xTest.insert(4, 'lng', lng*np.ones([len(xTest),1]))\n",
    "       \n",
    "    xTest.index = dateTimeIdx;\n",
    "    \n",
    "    #Prediction with Gaussian process regression\n",
    "    yPred, yStd = gprMdl.predict(xTest, return_std=True)\n",
    "    yPred = yPred.astype('int'); yPred[yPred<0]=0\n",
    "    yPred = pd.DataFrame(yPred, columns =['forecast']); yPred.index = dateTimeIdx\n",
    "    yPred = yPred['forecast']\n",
    "    \n",
    "    #We take +/- 3 times the standard deviation representing a 99.7% confidence bound\n",
    "    yLow = yPred - 3*yStd; yLow = yLow.astype('int'); yLow[yLow<0] = 0\n",
    "    yHigh = yPred + 3*yStd; yHigh = yHigh.astype('int');\n",
    "    \n",
    "    #Plotting the forecast as well as its confidence bound\n",
    "    fig = go.Figure()\n",
    "    fig.add_trace(go.Scatter(x = dateTimeIdx, y = yPred, name = 'Forecast'))\n",
    "    fig.add_trace(go.Scatter(x = dateTimeIdx, y = yLow, \n",
    "                            mode = 'lines',\n",
    "                            line = dict(width = 0.1),\n",
    "                            name = ''))\n",
    "    fig.add_trace(go.Scatter(x = dateTimeIdx, y = yHigh, fill = 'tonexty', \n",
    "                            mode = 'lines',\n",
    "                            line = dict(width=0.1),\n",
    "                            name = '99.7% confidence interval'))\n",
    "    fig.update_xaxes(title_text = 'Time')\n",
    "    if RoadUserID == 1: \n",
    "        fig.update_yaxes(title_text='Pedestrian volume')\n",
    "        fig.update_layout(width=1400, height=700, \n",
    "                          title_text = 'Pedestrian traffic forecast at '+ Intersection + ' Intersection')\n",
    "    elif RoadUserID == 2:\n",
    "        fig.update_yaxes(title_text='Cyclist volume')\n",
    "        fig.update_layout(width=1400, height=700,\n",
    "                          title_text = 'Cyclist traffic forecast at '+ Intersection + ' Intersection')\n",
    "    fig.show()"
   ]
  },
  {
   "cell_type": "code",
   "execution_count": 308,
   "metadata": {},
   "outputs": [],
   "source": [
    "def get_maps(RoadUserID, IntID, testStart, testEnd, Horizon):\n",
    "    \n",
    "    if RoadUserID == 1:\n",
    "        gprMdl = gprPedsMdl\n",
    "    elif RoadUserID == 2: \n",
    "        gprMdl = gprCycsMdl\n",
    "    \n",
    "    IntNames = ['Adelaide-Bay', 'Adelaide-Jarvis', 'Front-Bathurst', 'King-Portland',\n",
    "               'King-Peter', 'King-Bay', 'King-Yonge', 'King-Church', 'King-Jarvis',\n",
    "               'Richmond-Spadina','Richmond-Bay','Wellington-Blue_Jays',\n",
    "                'Wellington-Bay','King-John','Queen-Bathurst'];\n",
    "    \n",
    "    IntLoc = Locations.iloc[13,:] #On running the script, Location 13 is shown on map of Toronto; this is selected \n",
    "    #because it is the middlemost-located intersection that allows easy visualisation of all other intersections\n",
    "    \n",
    "    #In the following lines, we create a map visualisation using Folium package; this visualisation shows a heatmap\n",
    "    #of pedestrian/ cyclist traffic and how they evolve with time at all the intersections in the dataset, \n",
    "    #within the forecast horizon specified\n",
    "    \n",
    "    trafficMap = folium.Map(location= IntLoc, zoom_start = 15)\n",
    "    \n",
    "    dateTimeIdx = pd.date_range(start = testStart, periods = Horizon, freq = 'H');\n",
    "      \n",
    "    hour = dateTimeIdx.hour; dayOfWeek = dateTimeIdx.dayofweek; month = dateTimeIdx.dayofweek;\n",
    "    \n",
    "    dates = pd.DataFrame(dateTimeIdx.date, columns=['dates']);\n",
    "    dates = dates['dates']\n",
    "    Holidays = dates.isin(HolidayCal['dates'].dt.date)\n",
    "    Holidays[Holidays == True] = 1; Holidays[Holidays == False]=0;\n",
    "    \n",
    "\n",
    "    \n",
    "    IntForecasts = [ [] for i in range(Horizon) ]\n",
    "    for IntID in range(len(Locations)):\n",
    "\n",
    "        lat = Locations.iloc[IntID, 0]; lng = Locations.iloc[IntID, 1]\n",
    "        \n",
    "        xTest = pd.DataFrame();  \n",
    "        xTest.insert(0, 'Hour', hour);\n",
    "        xTest.insert(1, 'DayOfWeek', dayOfWeek)\n",
    "        xTest.insert(2, 'isHoliday', Holidays)\n",
    "        xTest.insert(3, 'lat', lat*np.ones([len(xTest),1]));\n",
    "        xTest.insert(4, 'lng', lng*np.ones([len(xTest),1]));     \n",
    "        xTest.index = dateTimeIdx;\n",
    "\n",
    "        yPred, yStd = gprMdl.predict(xTest, return_std=True)\n",
    "        yPred = yPred.astype('int'); yPred[yPred<0]=0\n",
    "        yPred = pd.DataFrame(yPred, columns =['forecast']); yPred.index = dateTimeIdx;\n",
    "        yPred = yPred['forecast']\n",
    "        \n",
    "        IntLoc = Locations.iloc[IntID,:]\n",
    "        \n",
    "        folium.Marker(location = IntLoc, popup = IntNames[IntID]).add_to(trafficMap) \n",
    "        \n",
    "        for i in range(Horizon):\n",
    "            IntForecasts[i].append([IntLoc.values[0], IntLoc.values[1], yPred.values[i]])\n",
    "    \n",
    "    HeatMapWithTime(IntForecasts, radius=18, auto_play = True,\n",
    "                    gradient={0: 'blue', 0.2: 'lime', 0.4: 'orange', 0.6: 'red', 1: 'black'}, \n",
    "                    min_opacity=0.5, max_opacity=1, use_local_extrema=True).add_to(trafficMap)\n",
    "    display(trafficMap)"
   ]
  },
  {
   "cell_type": "code",
   "execution_count": 309,
   "metadata": {},
   "outputs": [],
   "source": [
    "grid = GridspecLayout(1, 4, grid_gap=\"10px\")"
   ]
  },
  {
   "cell_type": "code",
   "execution_count": 310,
   "metadata": {},
   "outputs": [],
   "source": [
    "#This widget is a dropdown for taking in the intersection of choice\n",
    "InterSection = widgets.Dropdown(\n",
    "    options = ['Adelaide-Bay', 'Adelaide-Jarvis','Front-Bathurst', \n",
    "             'King-Bay', 'King-Church', 'King-Jarvis',\n",
    "             'King-John', 'King-Peter', 'King-Portland', \n",
    "             'King-Yonge', 'Queen-Bathurst', 'Richmond-Bay',\n",
    "             'Richmond-Spadina', 'Wellington-Bay', 'Wellington-Blue_Jays'],\n",
    "    description = 'Intersection:',\n",
    "    value = 'King-John',\n",
    "    disabled = False,\n",
    ")\n",
    "grid[0,1] = InterSection"
   ]
  },
  {
   "cell_type": "code",
   "execution_count": 311,
   "metadata": {},
   "outputs": [],
   "source": [
    "#This is another dropdown widget for taking in the road user of choice -- pedestrians or cyclists\n",
    "RoadUser = widgets.Dropdown(\n",
    "    options = ['Pedestrians', 'Cyclists'],\n",
    "    description = 'Road user:',\n",
    "    value = 'Cyclists',\n",
    "    disabled = False,\n",
    ")\n",
    "grid[0,2] = RoadUser"
   ]
  },
  {
   "cell_type": "code",
   "execution_count": 312,
   "metadata": {},
   "outputs": [
    {
     "data": {
      "application/vnd.jupyter.widget-view+json": {
       "model_id": "0c191a5aa7204154a8f0f156c1762727",
       "version_major": 2,
       "version_minor": 0
      },
      "text/plain": [
       "GridspecLayout(children=(Dropdown(description='Intersection:', index=6, layout=Layout(grid_area='widget001'), …"
      ]
     },
     "metadata": {},
     "output_type": "display_data"
    }
   ],
   "source": [
    "display(grid)"
   ]
  },
  {
   "cell_type": "code",
   "execution_count": 313,
   "metadata": {},
   "outputs": [],
   "source": [
    "grid = GridspecLayout(1, 3, grid_gap = \"10px\")"
   ]
  },
  {
   "cell_type": "code",
   "execution_count": 314,
   "metadata": {},
   "outputs": [],
   "source": [
    "#This widget allows the user to input the forecast start date\n",
    "style = {'description_width': 'initial'}\n",
    "ForecastDate = widgets.DatePicker(\n",
    "    style = style,\n",
    "    description = 'Forecast start date:',\n",
    "    value = pd.to_datetime('2019-08-01'),\n",
    "    disabled = False\n",
    ")\n",
    "grid[0,0] = ForecastDate"
   ]
  },
  {
   "cell_type": "code",
   "execution_count": 315,
   "metadata": {},
   "outputs": [],
   "source": [
    "#This widget allows the user to input the forecast start hour\n",
    "style = {'description_width': 'initial'}\n",
    "StartHour = widgets.Dropdown(\n",
    "    options = ['0','1', '2', '3','4','5','6','7','8','9','11','12',\n",
    "            '13','14','15','16','17','18','19','20','21','22','23'],\n",
    "    style = style,\n",
    "    description = 'Forecast start hour:',\n",
    "    value = '0',\n",
    "    disabled = False,\n",
    ")\n",
    "grid[0,1] = StartHour"
   ]
  },
  {
   "cell_type": "code",
   "execution_count": 316,
   "metadata": {},
   "outputs": [],
   "source": [
    "#This widget allows the user to specify how long in the future in hours for which they want to obtain forecasts\n",
    "style = {'description_width': 'initial'}\n",
    "forecastHorizon = widgets.IntText(\n",
    "    value = 24,\n",
    "    style = style,\n",
    "    description = 'Forecast horizon in hours:',\n",
    "    disabled = False\n",
    ")\n",
    "grid[0,2] = forecastHorizon"
   ]
  },
  {
   "cell_type": "code",
   "execution_count": 317,
   "metadata": {},
   "outputs": [
    {
     "data": {
      "application/vnd.jupyter.widget-view+json": {
       "model_id": "48dd6ee49baa43da9a5cf146e24fba77",
       "version_major": 2,
       "version_minor": 0
      },
      "text/plain": [
       "GridspecLayout(children=(DatePicker(value=Timestamp('2019-08-01 00:00:00'), description='Forecast start date:'…"
      ]
     },
     "metadata": {},
     "output_type": "display_data"
    }
   ],
   "source": [
    "display(grid)"
   ]
  },
  {
   "cell_type": "code",
   "execution_count": 318,
   "metadata": {},
   "outputs": [],
   "source": [
    "grid = GridspecLayout(1, 4, grid_gap = \"10px\")"
   ]
  },
  {
   "cell_type": "code",
   "execution_count": 319,
   "metadata": {},
   "outputs": [],
   "source": [
    "# This widget receives a button click on the webpage, and uses that click signal to call the function responsible for\n",
    "# evaluating the forecasts\n",
    "style = {'description_width': 'initial'}\n",
    "ts_button = widgets.Button(description = \"Click here for graph\",\n",
    "                          button_style = 'success')\n",
    "ts_output = widgets.Output()\n",
    "grid[0,1] = ts_button\n",
    "\n",
    "def on_ts_button_clicked(b):\n",
    "    with ts_output:\n",
    "        print('This might take a while...')\n",
    "        RoadUserID, Intersection, IntID, testStart, testEnd, Horizon = \\\n",
    "        get_param(ForecastDate, StartHour, forecastHorizon, InterSection, RoadUser)\n",
    "        \n",
    "        get_forecast(RoadUserID, Intersection, IntID, testStart, testEnd, Horizon)\n",
    "        print('Completed!')\n",
    "        ts_output.clear_output(wait = True)\n",
    "        \n",
    "ts_button.on_click(on_ts_button_clicked)"
   ]
  },
  {
   "cell_type": "code",
   "execution_count": 320,
   "metadata": {},
   "outputs": [],
   "source": [
    "# This widget receives a button click on the webpage, and uses that click signal to call the function responsible for\n",
    "# generating the heatmaps\n",
    "style = {'description_width': 'initial'}\n",
    "maps_button = widgets.Button(description = \"Click here for map\",\n",
    "                            button_style = 'success',\n",
    "                            style = style)\n",
    "maps_output = widgets.Output()\n",
    "grid[0,2] = maps_button\n",
    "\n",
    "def on_maps_button_clicked(b):\n",
    "    with maps_output:\n",
    "        print('This might take a while...')\n",
    "        RoadUserID, Intersection, IntID, testStart, testEnd, Horizon = \\\n",
    "        get_param(ForecastDate, StartHour, forecastHorizon, InterSection, RoadUser)\n",
    "        get_maps(RoadUserID, testStart, testStart, testEnd, Horizon)\n",
    "        print('Completed!')\n",
    "        maps_output.clear_output(wait = True)\n",
    "        \n",
    "maps_button.on_click(on_maps_button_clicked)"
   ]
  },
  {
   "cell_type": "code",
   "execution_count": 321,
   "metadata": {
    "scrolled": true
   },
   "outputs": [
    {
     "data": {
      "application/vnd.jupyter.widget-view+json": {
       "model_id": "56fab49677614624a47609465026046f",
       "version_major": 2,
       "version_minor": 0
      },
      "text/plain": [
       "Button(description='Click below for time-series forecast graph, or heatmap of traffic volumes evolving with ti…"
      ]
     },
     "metadata": {},
     "output_type": "display_data"
    }
   ],
   "source": [
    "#This is an information widget, directing the user to click for either forecasts or for heatmaps\n",
    "info = widgets.Button(\n",
    "    description = 'Click below for time-series forecast graph, or heatmap of traffic volumes evolving with time',\n",
    "    disabled = True,\n",
    "    button_style = '',\n",
    "    layout = Layout(width = '100%', height = '40px')\n",
    ")\n",
    "display(info)"
   ]
  },
  {
   "cell_type": "code",
   "execution_count": 322,
   "metadata": {
    "scrolled": true
   },
   "outputs": [
    {
     "data": {
      "application/vnd.jupyter.widget-view+json": {
       "model_id": "220c6c67d6a44b1bb06786f35273d8e9",
       "version_major": 2,
       "version_minor": 0
      },
      "text/plain": [
       "GridspecLayout(children=(Button(button_style='success', description='Click here for graph', layout=Layout(grid…"
      ]
     },
     "metadata": {},
     "output_type": "display_data"
    },
    {
     "data": {
      "application/vnd.jupyter.widget-view+json": {
       "model_id": "5eb676f3abfa42778de1b9c17823953f",
       "version_major": 2,
       "version_minor": 0
      },
      "text/plain": [
       "Output()"
      ]
     },
     "metadata": {},
     "output_type": "display_data"
    },
    {
     "data": {
      "application/vnd.jupyter.widget-view+json": {
       "model_id": "d95a597fc84044e2933a98af7e9d9514",
       "version_major": 2,
       "version_minor": 0
      },
      "text/plain": [
       "Output()"
      ]
     },
     "metadata": {},
     "output_type": "display_data"
    }
   ],
   "source": [
    "display(grid)\n",
    "display(ts_output)\n",
    "display(maps_output)"
   ]
  },
  {
   "cell_type": "code",
   "execution_count": null,
   "metadata": {},
   "outputs": [],
   "source": []
  }
 ],
 "metadata": {
  "kernelspec": {
   "display_name": "Python 3",
   "language": "python",
   "name": "python3"
  },
  "language_info": {
   "codemirror_mode": {
    "name": "ipython",
    "version": 3
   },
   "file_extension": ".py",
   "mimetype": "text/x-python",
   "name": "python",
   "nbconvert_exporter": "python",
   "pygments_lexer": "ipython3",
   "version": "3.7.3"
  }
 },
 "nbformat": 4,
 "nbformat_minor": 2
}
